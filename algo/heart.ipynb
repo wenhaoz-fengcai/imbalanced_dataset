{
 "cells": [
  {
   "cell_type": "code",
   "execution_count": 1,
   "metadata": {},
   "outputs": [],
   "source": [
    "import sklearn\n",
    "import numpy as np\n",
    "import pandas as pd\n",
    "from dev import DEVALGO \n",
    "from smote import SMOTEBoost\n",
    "from sklearn.metrics import roc_auc_score\n",
    "from sklearn.metrics import accuracy_score\n",
    "from sklearn.metrics import confusion_matrix\n",
    "from sklearn.tree import DecisionTreeClassifier\n",
    "from imblearn.over_sampling import SMOTE, ADASYN\n",
    "from sklearn.metrics import classification_report\n",
    "from sklearn.model_selection import train_test_split\n",
    "from imblearn.metrics import geometric_mean_score"
   ]
  },
  {
   "cell_type": "code",
   "execution_count": 2,
   "metadata": {},
   "outputs": [],
   "source": [
    "MINORITY = 1\n",
    "MAJORITY = 0\n",
    "CLASS_NAME = \"num\""
   ]
  },
  {
   "cell_type": "code",
   "execution_count": 3,
   "metadata": {},
   "outputs": [],
   "source": [
    "def pprint_dict(d):\n",
    "    for key, value in d.items():\n",
    "        print(key + \": \" + \"{0:.2f}\".format(value/100.0))"
   ]
  },
  {
   "cell_type": "code",
   "execution_count": 4,
   "metadata": {},
   "outputs": [
    {
     "data": {
      "text/html": [
       "<div>\n",
       "<style scoped>\n",
       "    .dataframe tbody tr th:only-of-type {\n",
       "        vertical-align: middle;\n",
       "    }\n",
       "\n",
       "    .dataframe tbody tr th {\n",
       "        vertical-align: top;\n",
       "    }\n",
       "\n",
       "    .dataframe thead th {\n",
       "        text-align: right;\n",
       "    }\n",
       "</style>\n",
       "<table border=\"1\" class=\"dataframe\">\n",
       "  <thead>\n",
       "    <tr style=\"text-align: right;\">\n",
       "      <th></th>\n",
       "      <th>age</th>\n",
       "      <th>cp</th>\n",
       "      <th>trestbps</th>\n",
       "      <th>chol</th>\n",
       "      <th>fbs</th>\n",
       "      <th>restecg</th>\n",
       "      <th>thalach</th>\n",
       "      <th>exang</th>\n",
       "      <th>oldpeak</th>\n",
       "      <th>slope</th>\n",
       "      <th>ca</th>\n",
       "      <th>thal</th>\n",
       "      <th>num</th>\n",
       "    </tr>\n",
       "  </thead>\n",
       "  <tbody>\n",
       "    <tr>\n",
       "      <th>0</th>\n",
       "      <td>30</td>\n",
       "      <td>1</td>\n",
       "      <td>170</td>\n",
       "      <td>237</td>\n",
       "      <td>0</td>\n",
       "      <td>1</td>\n",
       "      <td>170</td>\n",
       "      <td>0</td>\n",
       "      <td>0.0</td>\n",
       "      <td>-9</td>\n",
       "      <td>-9</td>\n",
       "      <td>6</td>\n",
       "      <td>0</td>\n",
       "    </tr>\n",
       "    <tr>\n",
       "      <th>1</th>\n",
       "      <td>50</td>\n",
       "      <td>3</td>\n",
       "      <td>140</td>\n",
       "      <td>288</td>\n",
       "      <td>0</td>\n",
       "      <td>0</td>\n",
       "      <td>140</td>\n",
       "      <td>1</td>\n",
       "      <td>0.0</td>\n",
       "      <td>-9</td>\n",
       "      <td>-9</td>\n",
       "      <td>7</td>\n",
       "      <td>1</td>\n",
       "    </tr>\n",
       "    <tr>\n",
       "      <th>2</th>\n",
       "      <td>59</td>\n",
       "      <td>3</td>\n",
       "      <td>130</td>\n",
       "      <td>318</td>\n",
       "      <td>0</td>\n",
       "      <td>0</td>\n",
       "      <td>120</td>\n",
       "      <td>1</td>\n",
       "      <td>1.0</td>\n",
       "      <td>2</td>\n",
       "      <td>-9</td>\n",
       "      <td>3</td>\n",
       "      <td>0</td>\n",
       "    </tr>\n",
       "    <tr>\n",
       "      <th>3</th>\n",
       "      <td>37</td>\n",
       "      <td>4</td>\n",
       "      <td>130</td>\n",
       "      <td>173</td>\n",
       "      <td>0</td>\n",
       "      <td>1</td>\n",
       "      <td>184</td>\n",
       "      <td>0</td>\n",
       "      <td>0.0</td>\n",
       "      <td>-9</td>\n",
       "      <td>-9</td>\n",
       "      <td>-9</td>\n",
       "      <td>0</td>\n",
       "    </tr>\n",
       "    <tr>\n",
       "      <th>4</th>\n",
       "      <td>49</td>\n",
       "      <td>2</td>\n",
       "      <td>124</td>\n",
       "      <td>201</td>\n",
       "      <td>0</td>\n",
       "      <td>0</td>\n",
       "      <td>164</td>\n",
       "      <td>0</td>\n",
       "      <td>0.0</td>\n",
       "      <td>-9</td>\n",
       "      <td>-9</td>\n",
       "      <td>-9</td>\n",
       "      <td>0</td>\n",
       "    </tr>\n",
       "  </tbody>\n",
       "</table>\n",
       "</div>"
      ],
      "text/plain": [
       "   age  cp  trestbps  chol  fbs  restecg  thalach  exang  oldpeak  slope  ca  \\\n",
       "0   30   1       170   237    0        1      170      0      0.0     -9  -9   \n",
       "1   50   3       140   288    0        0      140      1      0.0     -9  -9   \n",
       "2   59   3       130   318    0        0      120      1      1.0      2  -9   \n",
       "3   37   4       130   173    0        1      184      0      0.0     -9  -9   \n",
       "4   49   2       124   201    0        0      164      0      0.0     -9  -9   \n",
       "\n",
       "   thal  num  \n",
       "0     6    0  \n",
       "1     7    1  \n",
       "2     3    0  \n",
       "3    -9    0  \n",
       "4    -9    0  "
      ]
     },
     "execution_count": 4,
     "metadata": {},
     "output_type": "execute_result"
    }
   ],
   "source": [
    "df = pd.read_csv(\"data/heart/heart.csv\").sample(frac=1, random_state=0).reset_index(drop=True)\n",
    "df = df.drop([\"sex\"], axis=1)\n",
    "df.head()"
   ]
  },
  {
   "cell_type": "code",
   "execution_count": 5,
   "metadata": {},
   "outputs": [
    {
     "data": {
      "text/plain": [
       "0    188\n",
       "1     37\n",
       "3     28\n",
       "2     26\n",
       "4     15\n",
       "Name: num, dtype: int64"
      ]
     },
     "execution_count": 5,
     "metadata": {},
     "output_type": "execute_result"
    }
   ],
   "source": [
    "# Outcomes distribution\n",
    "df[CLASS_NAME].value_counts()"
   ]
  },
  {
   "cell_type": "code",
   "execution_count": 6,
   "metadata": {},
   "outputs": [
    {
     "data": {
      "text/html": [
       "<div>\n",
       "<style scoped>\n",
       "    .dataframe tbody tr th:only-of-type {\n",
       "        vertical-align: middle;\n",
       "    }\n",
       "\n",
       "    .dataframe tbody tr th {\n",
       "        vertical-align: top;\n",
       "    }\n",
       "\n",
       "    .dataframe thead th {\n",
       "        text-align: right;\n",
       "    }\n",
       "</style>\n",
       "<table border=\"1\" class=\"dataframe\">\n",
       "  <thead>\n",
       "    <tr style=\"text-align: right;\">\n",
       "      <th></th>\n",
       "      <th>age</th>\n",
       "      <th>cp</th>\n",
       "      <th>trestbps</th>\n",
       "      <th>chol</th>\n",
       "      <th>fbs</th>\n",
       "      <th>restecg</th>\n",
       "      <th>thalach</th>\n",
       "      <th>exang</th>\n",
       "      <th>oldpeak</th>\n",
       "      <th>slope</th>\n",
       "      <th>ca</th>\n",
       "      <th>thal</th>\n",
       "      <th>num</th>\n",
       "    </tr>\n",
       "  </thead>\n",
       "  <tbody>\n",
       "    <tr>\n",
       "      <th>0</th>\n",
       "      <td>30</td>\n",
       "      <td>1</td>\n",
       "      <td>170</td>\n",
       "      <td>237</td>\n",
       "      <td>0</td>\n",
       "      <td>1</td>\n",
       "      <td>170</td>\n",
       "      <td>0</td>\n",
       "      <td>0.0</td>\n",
       "      <td>-9</td>\n",
       "      <td>-9</td>\n",
       "      <td>6</td>\n",
       "      <td>0</td>\n",
       "    </tr>\n",
       "    <tr>\n",
       "      <th>1</th>\n",
       "      <td>50</td>\n",
       "      <td>3</td>\n",
       "      <td>140</td>\n",
       "      <td>288</td>\n",
       "      <td>0</td>\n",
       "      <td>0</td>\n",
       "      <td>140</td>\n",
       "      <td>1</td>\n",
       "      <td>0.0</td>\n",
       "      <td>-9</td>\n",
       "      <td>-9</td>\n",
       "      <td>7</td>\n",
       "      <td>1</td>\n",
       "    </tr>\n",
       "    <tr>\n",
       "      <th>2</th>\n",
       "      <td>59</td>\n",
       "      <td>3</td>\n",
       "      <td>130</td>\n",
       "      <td>318</td>\n",
       "      <td>0</td>\n",
       "      <td>0</td>\n",
       "      <td>120</td>\n",
       "      <td>1</td>\n",
       "      <td>1.0</td>\n",
       "      <td>2</td>\n",
       "      <td>-9</td>\n",
       "      <td>3</td>\n",
       "      <td>0</td>\n",
       "    </tr>\n",
       "    <tr>\n",
       "      <th>3</th>\n",
       "      <td>37</td>\n",
       "      <td>4</td>\n",
       "      <td>130</td>\n",
       "      <td>173</td>\n",
       "      <td>0</td>\n",
       "      <td>1</td>\n",
       "      <td>184</td>\n",
       "      <td>0</td>\n",
       "      <td>0.0</td>\n",
       "      <td>-9</td>\n",
       "      <td>-9</td>\n",
       "      <td>-9</td>\n",
       "      <td>0</td>\n",
       "    </tr>\n",
       "    <tr>\n",
       "      <th>4</th>\n",
       "      <td>49</td>\n",
       "      <td>2</td>\n",
       "      <td>124</td>\n",
       "      <td>201</td>\n",
       "      <td>0</td>\n",
       "      <td>0</td>\n",
       "      <td>164</td>\n",
       "      <td>0</td>\n",
       "      <td>0.0</td>\n",
       "      <td>-9</td>\n",
       "      <td>-9</td>\n",
       "      <td>-9</td>\n",
       "      <td>0</td>\n",
       "    </tr>\n",
       "  </tbody>\n",
       "</table>\n",
       "</div>"
      ],
      "text/plain": [
       "   age  cp  trestbps  chol  fbs  restecg  thalach  exang  oldpeak  slope  ca  \\\n",
       "0   30   1       170   237    0        1      170      0      0.0     -9  -9   \n",
       "1   50   3       140   288    0        0      140      1      0.0     -9  -9   \n",
       "2   59   3       130   318    0        0      120      1      1.0      2  -9   \n",
       "3   37   4       130   173    0        1      184      0      0.0     -9  -9   \n",
       "4   49   2       124   201    0        0      164      0      0.0     -9  -9   \n",
       "\n",
       "   thal  num  \n",
       "0     6    0  \n",
       "1     7    1  \n",
       "2     3    0  \n",
       "3    -9    0  \n",
       "4    -9    0  "
      ]
     },
     "execution_count": 6,
     "metadata": {},
     "output_type": "execute_result"
    }
   ],
   "source": [
    "# Uncomment this when testing on vowel\n",
    "df[CLASS_NAME].replace({1:1, 2:1, 3:1, 4:1}, inplace=True)\n",
    "df.head()"
   ]
  },
  {
   "cell_type": "code",
   "execution_count": 7,
   "metadata": {},
   "outputs": [
    {
     "data": {
      "text/plain": [
       "0    188\n",
       "1    106\n",
       "Name: num, dtype: int64"
      ]
     },
     "execution_count": 7,
     "metadata": {},
     "output_type": "execute_result"
    }
   ],
   "source": [
    "# Outcomes distribution\n",
    "df[CLASS_NAME].value_counts()"
   ]
  },
  {
   "cell_type": "code",
   "execution_count": 8,
   "metadata": {},
   "outputs": [
    {
     "data": {
      "text/plain": [
       "'1.8'"
      ]
     },
     "execution_count": 8,
     "metadata": {},
     "output_type": "execute_result"
    }
   ],
   "source": [
    "# Calculate imbalanced ratio\n",
    "frq = df[CLASS_NAME].value_counts()\n",
    "ratio = max(frq)/min(frq)\n",
    "\"{0:.1f}\".format(ratio)"
   ]
  },
  {
   "cell_type": "markdown",
   "metadata": {},
   "source": [
    "# Use the following for testing Decision tree\n",
    "\n",
    "- run 100 iterations\n",
    "- 50/50 training/testing\n",
    "- Decision tree"
   ]
  },
  {
   "cell_type": "code",
   "execution_count": 9,
   "metadata": {},
   "outputs": [],
   "source": [
    "res = dict()\n",
    "X, y= df.iloc[:,:-1].values, df[CLASS_NAME].values\n",
    "for i in range(100):\n",
    "    X_train, X_test, y_train, y_test = \\\n",
    "        train_test_split(X, y, test_size=.5, random_state=0)\n",
    "    clf_tree = DecisionTreeClassifier(random_state=0)\n",
    "    clf_tree.fit(X_train, y_train)\n",
    "    y_pred = clf_tree.predict(X_test)\n",
    "    tmp_res = classification_report(y_test, y_pred, output_dict=True)\n",
    "    res[\"precision\"] = res.get(\"precision\", 0) + tmp_res[\"1\"][\"precision\"]\n",
    "    res[\"recall\"] = res.get(\"recall\", 0) + tmp_res[\"1\"][\"recall\"]\n",
    "    res[\"f1-score\"] = res.get(\"f1-score\", 0) + tmp_res[\"1\"][\"f1-score\"]\n",
    "    res[\"specificity\"] = res.get(\"specificity\", 0) + tmp_res[str(MAJORITY)][\"recall\"]\n",
    "    res[\"sensitivity\"] = res.get(\"sensitivity\", 0) + tmp_res[str(MINORITY)][\"recall\"]\n",
    "    res[\"overall accuracy\"] = res.get(\"overall accuracy\", 0) + accuracy_score(y_test, y_pred,)\n",
    "    res[\"auc\"] = res.get(\"auc\", 0) + roc_auc_score(y_test, y_pred)\n",
    "    res[\"g_mean\"] = res.get(\"g_mean\", 0) + geometric_mean_score(y_test, y_pred)"
   ]
  },
  {
   "cell_type": "code",
   "execution_count": 10,
   "metadata": {},
   "outputs": [
    {
     "name": "stdout",
     "output_type": "stream",
     "text": [
      "precision: 0.68\n",
      "recall: 0.63\n",
      "f1-score: 0.65\n",
      "specificity: 0.84\n",
      "sensitivity: 0.63\n",
      "overall accuracy: 0.77\n",
      "auc: 0.74\n",
      "g_mean: 0.73\n"
     ]
    }
   ],
   "source": [
    "pprint_dict(res)"
   ]
  },
  {
   "cell_type": "markdown",
   "metadata": {},
   "source": [
    "# Use the following for testing SMOTE\n",
    "\n",
    "- run 100 iterations\n",
    "- 50/50 training/testing\n",
    "- Decision tree\n",
    "- N = 200"
   ]
  },
  {
   "cell_type": "code",
   "execution_count": 11,
   "metadata": {},
   "outputs": [
    {
     "name": "stdout",
     "output_type": "stream",
     "text": [
      "Shape of X_train before oversampling: (147, 12)\n",
      "Outcome distribution of X_train before oversampling: [92 55]\n",
      "Shape of X_train after oversampling: (184, 12)\n",
      "Outcome distribution of X_train after oversampling: [92 92]\n"
     ]
    }
   ],
   "source": [
    "res = dict()\n",
    "X, y= df.iloc[:,:-1].values, df[CLASS_NAME].values\n",
    "for i in range(100):\n",
    "    X_train, X_test, y_train, y_test = \\\n",
    "        train_test_split(X, y, test_size=.5, random_state=0)\n",
    "    if i == 0:\n",
    "        print(\"Shape of X_train before oversampling: \" + str(X_train.shape))\n",
    "        print(\"Outcome distribution of X_train before oversampling: \" + str(np.bincount(y_train)))\n",
    "    # Oversample training data\n",
    "    sm = SMOTE(random_state=0)\n",
    "    sm.fit(X_train, y_train)\n",
    "    X_train_r, y_train_r = sm.fit_resample(X_train, y_train)\n",
    "    if i == 0:\n",
    "        print(\"Shape of X_train after oversampling: \" + str(X_train_r.shape))\n",
    "        print(\"Outcome distribution of X_train after oversampling: \" + str(np.bincount(y_train_r)))\n",
    "    # Build classifier on resampled data\n",
    "    clf_tree = DecisionTreeClassifier(random_state=0)\n",
    "    clf_tree.fit(X_train_r, y_train_r)\n",
    "    y_pred = clf_tree.predict(X_test)\n",
    "    tmp_res = classification_report(y_test, y_pred, output_dict=True)\n",
    "    res[\"precision\"] = res.get(\"precision\", 0) + tmp_res[\"1\"][\"precision\"]\n",
    "    res[\"recall\"] = res.get(\"recall\", 0) + tmp_res[\"1\"][\"recall\"]\n",
    "    res[\"f1-score\"] = res.get(\"f1-score\", 0) + tmp_res[\"1\"][\"f1-score\"]\n",
    "    res[\"specificity\"] = res.get(\"specificity\", 0) + tmp_res[str(MAJORITY)][\"recall\"]\n",
    "    res[\"sensitivity\"] = res.get(\"sensitivity\", 0) + tmp_res[str(MINORITY)][\"recall\"]\n",
    "    res[\"overall accuracy\"] = res.get(\"overall accuracy\", 0) + accuracy_score(y_test, y_pred,)\n",
    "    res[\"auc\"] = res.get(\"auc\", 0) + roc_auc_score(y_test, y_pred)\n",
    "    res[\"g_mean\"] = res.get(\"g_mean\", 0) + geometric_mean_score(y_test, y_pred)"
   ]
  },
  {
   "cell_type": "code",
   "execution_count": 12,
   "metadata": {},
   "outputs": [
    {
     "name": "stdout",
     "output_type": "stream",
     "text": [
      "precision: 0.67\n",
      "recall: 0.57\n",
      "f1-score: 0.62\n",
      "specificity: 0.85\n",
      "sensitivity: 0.57\n",
      "overall accuracy: 0.76\n",
      "auc: 0.71\n",
      "g_mean: 0.70\n"
     ]
    }
   ],
   "source": [
    "pprint_dict(res)"
   ]
  },
  {
   "cell_type": "markdown",
   "metadata": {},
   "source": [
    "# Use the following for testing ADASYN\n",
    "\n",
    "- run 100 iterations\n",
    "- 50/50 training/testing\n",
    "- Decision tree\n",
    "- A fully balanced dataset after synthesizing\n",
    "- Dth = 0.75 (Dth is a preset threshold for the maximum tolerated degree of class imbalance ratio)"
   ]
  },
  {
   "cell_type": "code",
   "execution_count": 13,
   "metadata": {},
   "outputs": [
    {
     "name": "stdout",
     "output_type": "stream",
     "text": [
      "Shape of X_train before oversampling: (147, 12)\n",
      "Outcome distribution of X_train before oversampling: [92 55]\n",
      "Shape of X_train after oversampling: (176, 12)\n",
      "Outcome distribution of X_train after oversampling: [92 84]\n"
     ]
    }
   ],
   "source": [
    "res = dict()\n",
    "X, y= df.iloc[:,:-1].values, df[CLASS_NAME].values\n",
    "for i in range(100):\n",
    "    X_train, X_test, y_train, y_test = \\\n",
    "        train_test_split(X, y, test_size=.5, random_state=0)\n",
    "    if i == 0:\n",
    "        print(\"Shape of X_train before oversampling: \" + str(X_train.shape))\n",
    "        print(\"Outcome distribution of X_train before oversampling: \" + str(np.bincount(y_train)))\n",
    "    # Oversample training data\n",
    "    ada = ADASYN(random_state=0)\n",
    "    ada.fit(X_train, y_train)\n",
    "    X_train_r, y_train_r = ada.fit_resample(X_train, y_train)\n",
    "    if i == 0:\n",
    "        print(\"Shape of X_train after oversampling: \" + str(X_train_r.shape))\n",
    "        print(\"Outcome distribution of X_train after oversampling: \" + str(np.bincount(y_train_r)))\n",
    "    # Build classifier on resampled data\n",
    "    clf_tree = DecisionTreeClassifier(random_state=0)\n",
    "    clf_tree.fit(X_train_r, y_train_r)\n",
    "    y_pred = clf_tree.predict(X_test)\n",
    "    tmp_res = classification_report(y_test, y_pred, output_dict=True)\n",
    "    res[\"precision\"] = res.get(\"precision\", 0) + tmp_res[\"1\"][\"precision\"]\n",
    "    res[\"recall\"] = res.get(\"recall\", 0) + tmp_res[\"1\"][\"recall\"]\n",
    "    res[\"f1-score\"] = res.get(\"f1-score\", 0) + tmp_res[\"1\"][\"f1-score\"]\n",
    "    res[\"specificity\"] = res.get(\"specificity\", 0) + tmp_res[str(MAJORITY)][\"recall\"]\n",
    "    res[\"sensitivity\"] = res.get(\"sensitivity\", 0) + tmp_res[str(MINORITY)][\"recall\"]\n",
    "    res[\"overall accuracy\"] = res.get(\"overall accuracy\", 0) + accuracy_score(y_test, y_pred,)\n",
    "    res[\"auc\"] = res.get(\"auc\", 0) + roc_auc_score(y_test, y_pred)\n",
    "    res[\"g_mean\"] = res.get(\"g_mean\", 0) + geometric_mean_score(y_test, y_pred)"
   ]
  },
  {
   "cell_type": "code",
   "execution_count": 14,
   "metadata": {},
   "outputs": [
    {
     "name": "stdout",
     "output_type": "stream",
     "text": [
      "precision: 0.68\n",
      "recall: 0.75\n",
      "f1-score: 0.71\n",
      "specificity: 0.81\n",
      "sensitivity: 0.75\n",
      "overall accuracy: 0.79\n",
      "auc: 0.78\n",
      "g_mean: 0.78\n"
     ]
    }
   ],
   "source": [
    "pprint_dict(res)"
   ]
  },
  {
   "cell_type": "markdown",
   "metadata": {},
   "source": [
    "# Use the following for testing SMOTEBoost\n",
    "\n",
    "- run 100 iterations\n",
    "- 50/50 training/testing\n",
    "- Decision tree"
   ]
  },
  {
   "cell_type": "code",
   "execution_count": 15,
   "metadata": {},
   "outputs": [],
   "source": [
    "res = dict()\n",
    "X, y= df.iloc[:,:-1].values, df[CLASS_NAME].values\n",
    "for i in range(100):\n",
    "    X_train, X_test, y_train, y_test = \\\n",
    "        train_test_split(X, y, test_size=.5, random_state=0)\n",
    "    clf1 = SMOTEBoost(random_state=0)\n",
    "    clf1.fit(X_train, y_train)\n",
    "    y_pred = clf1.predict(X_test)\n",
    "    tmp_res = classification_report(y_test, y_pred, output_dict=True)\n",
    "    res[\"precision\"] = res.get(\"precision\", 0) + tmp_res[\"1\"][\"precision\"]\n",
    "    res[\"recall\"] = res.get(\"recall\", 0) + tmp_res[\"1\"][\"recall\"]\n",
    "    res[\"f1-score\"] = res.get(\"f1-score\", 0) + tmp_res[\"1\"][\"f1-score\"]\n",
    "    res[\"specificity\"] = res.get(\"specificity\", 0) + tmp_res[str(MAJORITY)][\"recall\"]\n",
    "    res[\"sensitivity\"] = res.get(\"sensitivity\", 0) + tmp_res[str(MINORITY)][\"recall\"]\n",
    "    res[\"overall accuracy\"] = res.get(\"overall accuracy\", 0) + accuracy_score(y_test, y_pred,)\n",
    "    res[\"auc\"] = res.get(\"auc\", 0) + roc_auc_score(y_test, y_pred)\n",
    "    res[\"g_mean\"] = res.get(\"g_mean\", 0) + geometric_mean_score(y_test, y_pred)"
   ]
  },
  {
   "cell_type": "code",
   "execution_count": 16,
   "metadata": {},
   "outputs": [
    {
     "name": "stdout",
     "output_type": "stream",
     "text": [
      "precision: 0.55\n",
      "recall: 0.75\n",
      "f1-score: 0.63\n",
      "specificity: 0.68\n",
      "sensitivity: 0.75\n",
      "overall accuracy: 0.70\n",
      "auc: 0.71\n",
      "g_mean: 0.71\n"
     ]
    }
   ],
   "source": [
    "pprint_dict(res)"
   ]
  },
  {
   "cell_type": "markdown",
   "metadata": {},
   "source": [
    "# Use the following for testing Dev_algo\n",
    "\n",
    "- run 100 iterations\n",
    "- 50/50 training/testing\n",
    "- Decision tree"
   ]
  },
  {
   "cell_type": "code",
   "execution_count": 17,
   "metadata": {},
   "outputs": [],
   "source": [
    "res = dict()\n",
    "X, y= df.iloc[:,:-1].values, df[CLASS_NAME].values\n",
    "for i in range(100):\n",
    "    X_train, X_test, y_train, y_test = \\\n",
    "        train_test_split(X, y, test_size=.5, random_state=0)\n",
    "    unique, counts = np.unique(y_train, return_counts=True)\n",
    "    frequency = dict(zip(unique, counts))\n",
    "    clf1 = DEVALGO(random_state=0, n_samples=frequency[MAJORITY])\n",
    "    clf1.fit(X_train, y_train)\n",
    "    y_pred = clf1.predict(X_test)\n",
    "    tmp_res = classification_report(y_test, y_pred, output_dict=True)\n",
    "    res[\"precision\"] = res.get(\"precision\", 0) + tmp_res[\"1\"][\"precision\"]\n",
    "    res[\"recall\"] = res.get(\"recall\", 0) + tmp_res[\"1\"][\"recall\"]\n",
    "    res[\"f1-score\"] = res.get(\"f1-score\", 0) + tmp_res[\"1\"][\"f1-score\"]\n",
    "    res[\"specificity\"] = res.get(\"specificity\", 0) + tmp_res[str(MAJORITY)][\"recall\"]\n",
    "    res[\"sensitivity\"] = res.get(\"sensitivity\", 0) + tmp_res[str(MINORITY)][\"recall\"]\n",
    "    res[\"overall accuracy\"] = res.get(\"overall accuracy\", 0) + accuracy_score(y_test, y_pred,)\n",
    "    res[\"auc\"] = res.get(\"auc\", 0) + roc_auc_score(y_test, y_pred)\n",
    "    res[\"g_mean\"] = res.get(\"g_mean\", 0) + geometric_mean_score(y_test, y_pred)"
   ]
  },
  {
   "cell_type": "code",
   "execution_count": 18,
   "metadata": {},
   "outputs": [
    {
     "name": "stdout",
     "output_type": "stream",
     "text": [
      "precision: 0.60\n",
      "recall: 0.74\n",
      "f1-score: 0.66\n",
      "specificity: 0.74\n",
      "sensitivity: 0.74\n",
      "overall accuracy: 0.74\n",
      "auc: 0.74\n",
      "g_mean: 0.74\n"
     ]
    }
   ],
   "source": [
    " pprint_dict(res)"
   ]
  },
  {
   "cell_type": "raw",
   "metadata": {},
   "source": []
  }
 ],
 "metadata": {
  "kernelspec": {
   "display_name": "Python 3",
   "language": "python",
   "name": "python3"
  },
  "language_info": {
   "codemirror_mode": {
    "name": "ipython",
    "version": 3
   },
   "file_extension": ".py",
   "mimetype": "text/x-python",
   "name": "python",
   "nbconvert_exporter": "python",
   "pygments_lexer": "ipython3",
   "version": "3.6.8"
  }
 },
 "nbformat": 4,
 "nbformat_minor": 2
}
