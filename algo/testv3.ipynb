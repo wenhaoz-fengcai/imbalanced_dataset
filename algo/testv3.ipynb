{
 "cells": [
  {
   "cell_type": "code",
   "execution_count": 1,
   "metadata": {},
   "outputs": [],
   "source": [
    "import sklearn\n",
    "import numpy as np\n",
    "import pandas as pd\n",
    "from dev import DEVALGO \n",
    "from smote import SMOTEBoost\n",
    "from sklearn.metrics import roc_auc_score\n",
    "from sklearn.metrics import accuracy_score\n",
    "from sklearn.metrics import confusion_matrix\n",
    "from sklearn.tree import DecisionTreeClassifier\n",
    "from imblearn.over_sampling import SMOTE, ADASYN\n",
    "from sklearn.metrics import classification_report\n",
    "from sklearn.model_selection import train_test_split\n",
    "from imblearn.metrics import geometric_mean_score"
   ]
  },
  {
   "cell_type": "code",
   "execution_count": 2,
   "metadata": {},
   "outputs": [],
   "source": [
    "MINORITY = 1\n",
    "MAJORITY = 0\n",
    "CLASS_NAME = \"class\""
   ]
  },
  {
   "cell_type": "code",
   "execution_count": 3,
   "metadata": {},
   "outputs": [],
   "source": [
    "def pprint_dict(d):\n",
    "    for key, value in d.items():\n",
    "        print(key + \": \" + \"{0:.2f}\".format(value/100.0))"
   ]
  },
  {
   "cell_type": "code",
   "execution_count": 4,
   "metadata": {},
   "outputs": [
    {
     "data": {
      "text/html": [
       "<div>\n",
       "<style scoped>\n",
       "    .dataframe tbody tr th:only-of-type {\n",
       "        vertical-align: middle;\n",
       "    }\n",
       "\n",
       "    .dataframe tbody tr th {\n",
       "        vertical-align: top;\n",
       "    }\n",
       "\n",
       "    .dataframe thead th {\n",
       "        text-align: right;\n",
       "    }\n",
       "</style>\n",
       "<table border=\"1\" class=\"dataframe\">\n",
       "  <thead>\n",
       "    <tr style=\"text-align: right;\">\n",
       "      <th></th>\n",
       "      <th>TT</th>\n",
       "      <th>SpeakerNumber</th>\n",
       "      <th>Sex</th>\n",
       "      <th>F0</th>\n",
       "      <th>F1</th>\n",
       "      <th>F2</th>\n",
       "      <th>F3</th>\n",
       "      <th>F4</th>\n",
       "      <th>F5</th>\n",
       "      <th>F6</th>\n",
       "      <th>F7</th>\n",
       "      <th>F8</th>\n",
       "      <th>F9</th>\n",
       "      <th>class</th>\n",
       "    </tr>\n",
       "  </thead>\n",
       "  <tbody>\n",
       "    <tr>\n",
       "      <th>0</th>\n",
       "      <td>1</td>\n",
       "      <td>11</td>\n",
       "      <td>0</td>\n",
       "      <td>-3.265</td>\n",
       "      <td>1.933</td>\n",
       "      <td>-0.316</td>\n",
       "      <td>0.602</td>\n",
       "      <td>0.438</td>\n",
       "      <td>0.336</td>\n",
       "      <td>0.048</td>\n",
       "      <td>0.134</td>\n",
       "      <td>-0.160</td>\n",
       "      <td>-0.991</td>\n",
       "      <td>10</td>\n",
       "    </tr>\n",
       "    <tr>\n",
       "      <th>1</th>\n",
       "      <td>1</td>\n",
       "      <td>9</td>\n",
       "      <td>0</td>\n",
       "      <td>-4.753</td>\n",
       "      <td>3.421</td>\n",
       "      <td>-0.189</td>\n",
       "      <td>0.656</td>\n",
       "      <td>-0.984</td>\n",
       "      <td>1.443</td>\n",
       "      <td>-0.652</td>\n",
       "      <td>0.546</td>\n",
       "      <td>0.123</td>\n",
       "      <td>-0.326</td>\n",
       "      <td>9</td>\n",
       "    </tr>\n",
       "    <tr>\n",
       "      <th>2</th>\n",
       "      <td>0</td>\n",
       "      <td>4</td>\n",
       "      <td>1</td>\n",
       "      <td>-3.049</td>\n",
       "      <td>0.084</td>\n",
       "      <td>0.981</td>\n",
       "      <td>1.193</td>\n",
       "      <td>0.761</td>\n",
       "      <td>0.495</td>\n",
       "      <td>-0.714</td>\n",
       "      <td>-0.466</td>\n",
       "      <td>-0.568</td>\n",
       "      <td>-0.149</td>\n",
       "      <td>1</td>\n",
       "    </tr>\n",
       "    <tr>\n",
       "      <th>3</th>\n",
       "      <td>1</td>\n",
       "      <td>11</td>\n",
       "      <td>0</td>\n",
       "      <td>-4.028</td>\n",
       "      <td>0.982</td>\n",
       "      <td>-0.648</td>\n",
       "      <td>1.478</td>\n",
       "      <td>-0.048</td>\n",
       "      <td>2.108</td>\n",
       "      <td>-0.146</td>\n",
       "      <td>0.467</td>\n",
       "      <td>-0.654</td>\n",
       "      <td>-0.193</td>\n",
       "      <td>9</td>\n",
       "    </tr>\n",
       "    <tr>\n",
       "      <th>4</th>\n",
       "      <td>0</td>\n",
       "      <td>0</td>\n",
       "      <td>0</td>\n",
       "      <td>-3.046</td>\n",
       "      <td>0.387</td>\n",
       "      <td>-1.165</td>\n",
       "      <td>0.940</td>\n",
       "      <td>-0.386</td>\n",
       "      <td>1.978</td>\n",
       "      <td>-0.186</td>\n",
       "      <td>0.811</td>\n",
       "      <td>-0.394</td>\n",
       "      <td>-0.198</td>\n",
       "      <td>1</td>\n",
       "    </tr>\n",
       "  </tbody>\n",
       "</table>\n",
       "</div>"
      ],
      "text/plain": [
       "   TT  SpeakerNumber  Sex     F0     F1     F2     F3     F4     F5     F6  \\\n",
       "0   1             11    0 -3.265  1.933 -0.316  0.602  0.438  0.336  0.048   \n",
       "1   1              9    0 -4.753  3.421 -0.189  0.656 -0.984  1.443 -0.652   \n",
       "2   0              4    1 -3.049  0.084  0.981  1.193  0.761  0.495 -0.714   \n",
       "3   1             11    0 -4.028  0.982 -0.648  1.478 -0.048  2.108 -0.146   \n",
       "4   0              0    0 -3.046  0.387 -1.165  0.940 -0.386  1.978 -0.186   \n",
       "\n",
       "      F7     F8     F9  class  \n",
       "0  0.134 -0.160 -0.991     10  \n",
       "1  0.546  0.123 -0.326      9  \n",
       "2 -0.466 -0.568 -0.149      1  \n",
       "3  0.467 -0.654 -0.193      9  \n",
       "4  0.811 -0.394 -0.198      1  "
      ]
     },
     "execution_count": 4,
     "metadata": {},
     "output_type": "execute_result"
    }
   ],
   "source": [
    "df = pd.read_csv(\"data/Vowel/vowel.csv\").sample(frac=1, random_state=0).reset_index(drop=True)\n",
    "df.head()"
   ]
  },
  {
   "cell_type": "code",
   "execution_count": 5,
   "metadata": {},
   "outputs": [
    {
     "data": {
      "text/html": [
       "<div>\n",
       "<style scoped>\n",
       "    .dataframe tbody tr th:only-of-type {\n",
       "        vertical-align: middle;\n",
       "    }\n",
       "\n",
       "    .dataframe tbody tr th {\n",
       "        vertical-align: top;\n",
       "    }\n",
       "\n",
       "    .dataframe thead th {\n",
       "        text-align: right;\n",
       "    }\n",
       "</style>\n",
       "<table border=\"1\" class=\"dataframe\">\n",
       "  <thead>\n",
       "    <tr style=\"text-align: right;\">\n",
       "      <th></th>\n",
       "      <th>TT</th>\n",
       "      <th>SpeakerNumber</th>\n",
       "      <th>Sex</th>\n",
       "      <th>F0</th>\n",
       "      <th>F1</th>\n",
       "      <th>F2</th>\n",
       "      <th>F3</th>\n",
       "      <th>F4</th>\n",
       "      <th>F5</th>\n",
       "      <th>F6</th>\n",
       "      <th>F7</th>\n",
       "      <th>F8</th>\n",
       "      <th>F9</th>\n",
       "      <th>class</th>\n",
       "    </tr>\n",
       "  </thead>\n",
       "  <tbody>\n",
       "    <tr>\n",
       "      <th>0</th>\n",
       "      <td>1</td>\n",
       "      <td>11</td>\n",
       "      <td>0</td>\n",
       "      <td>-3.265</td>\n",
       "      <td>1.933</td>\n",
       "      <td>-0.316</td>\n",
       "      <td>0.602</td>\n",
       "      <td>0.438</td>\n",
       "      <td>0.336</td>\n",
       "      <td>0.048</td>\n",
       "      <td>0.134</td>\n",
       "      <td>-0.160</td>\n",
       "      <td>-0.991</td>\n",
       "      <td>0</td>\n",
       "    </tr>\n",
       "    <tr>\n",
       "      <th>1</th>\n",
       "      <td>1</td>\n",
       "      <td>9</td>\n",
       "      <td>0</td>\n",
       "      <td>-4.753</td>\n",
       "      <td>3.421</td>\n",
       "      <td>-0.189</td>\n",
       "      <td>0.656</td>\n",
       "      <td>-0.984</td>\n",
       "      <td>1.443</td>\n",
       "      <td>-0.652</td>\n",
       "      <td>0.546</td>\n",
       "      <td>0.123</td>\n",
       "      <td>-0.326</td>\n",
       "      <td>0</td>\n",
       "    </tr>\n",
       "    <tr>\n",
       "      <th>2</th>\n",
       "      <td>0</td>\n",
       "      <td>4</td>\n",
       "      <td>1</td>\n",
       "      <td>-3.049</td>\n",
       "      <td>0.084</td>\n",
       "      <td>0.981</td>\n",
       "      <td>1.193</td>\n",
       "      <td>0.761</td>\n",
       "      <td>0.495</td>\n",
       "      <td>-0.714</td>\n",
       "      <td>-0.466</td>\n",
       "      <td>-0.568</td>\n",
       "      <td>-0.149</td>\n",
       "      <td>0</td>\n",
       "    </tr>\n",
       "    <tr>\n",
       "      <th>3</th>\n",
       "      <td>1</td>\n",
       "      <td>11</td>\n",
       "      <td>0</td>\n",
       "      <td>-4.028</td>\n",
       "      <td>0.982</td>\n",
       "      <td>-0.648</td>\n",
       "      <td>1.478</td>\n",
       "      <td>-0.048</td>\n",
       "      <td>2.108</td>\n",
       "      <td>-0.146</td>\n",
       "      <td>0.467</td>\n",
       "      <td>-0.654</td>\n",
       "      <td>-0.193</td>\n",
       "      <td>0</td>\n",
       "    </tr>\n",
       "    <tr>\n",
       "      <th>4</th>\n",
       "      <td>0</td>\n",
       "      <td>0</td>\n",
       "      <td>0</td>\n",
       "      <td>-3.046</td>\n",
       "      <td>0.387</td>\n",
       "      <td>-1.165</td>\n",
       "      <td>0.940</td>\n",
       "      <td>-0.386</td>\n",
       "      <td>1.978</td>\n",
       "      <td>-0.186</td>\n",
       "      <td>0.811</td>\n",
       "      <td>-0.394</td>\n",
       "      <td>-0.198</td>\n",
       "      <td>0</td>\n",
       "    </tr>\n",
       "  </tbody>\n",
       "</table>\n",
       "</div>"
      ],
      "text/plain": [
       "   TT  SpeakerNumber  Sex     F0     F1     F2     F3     F4     F5     F6  \\\n",
       "0   1             11    0 -3.265  1.933 -0.316  0.602  0.438  0.336  0.048   \n",
       "1   1              9    0 -4.753  3.421 -0.189  0.656 -0.984  1.443 -0.652   \n",
       "2   0              4    1 -3.049  0.084  0.981  1.193  0.761  0.495 -0.714   \n",
       "3   1             11    0 -4.028  0.982 -0.648  1.478 -0.048  2.108 -0.146   \n",
       "4   0              0    0 -3.046  0.387 -1.165  0.940 -0.386  1.978 -0.186   \n",
       "\n",
       "      F7     F8     F9  class  \n",
       "0  0.134 -0.160 -0.991      0  \n",
       "1  0.546  0.123 -0.326      0  \n",
       "2 -0.466 -0.568 -0.149      0  \n",
       "3  0.467 -0.654 -0.193      0  \n",
       "4  0.811 -0.394 -0.198      0  "
      ]
     },
     "execution_count": 5,
     "metadata": {},
     "output_type": "execute_result"
    }
   ],
   "source": [
    "# Data transformation\n",
    "\n",
    "# # Uncomment this when testing on abalone\n",
    "# df = df[(df[\"class\"] == 18) | (df[\"class\"] == 9)].reset_index(drop=True)\n",
    "# df[\"class\"].replace({18:1, 9:0}, inplace=True)\n",
    "# df.head()\n",
    "\n",
    "# Uncomment this when testing on vowel\n",
    "df[\"class\"].replace({0:1, 1:0, 2:0, 3:0, 4:0, 5:0, 6:0, 7:0, 8:0, 9:0, 10:0}, inplace=True)\n",
    "df.head()"
   ]
  },
  {
   "cell_type": "code",
   "execution_count": 6,
   "metadata": {},
   "outputs": [
    {
     "data": {
      "text/plain": [
       "0    900\n",
       "1     90\n",
       "Name: class, dtype: int64"
      ]
     },
     "execution_count": 6,
     "metadata": {},
     "output_type": "execute_result"
    }
   ],
   "source": [
    "# Outcomes distribution\n",
    "\n",
    "df[\"class\"].value_counts()"
   ]
  },
  {
   "cell_type": "code",
   "execution_count": 7,
   "metadata": {},
   "outputs": [
    {
     "data": {
      "text/plain": [
       "'10.0'"
      ]
     },
     "execution_count": 7,
     "metadata": {},
     "output_type": "execute_result"
    }
   ],
   "source": [
    "# Calculate imbalanced ratio\n",
    "frq = df[\"class\"].value_counts()\n",
    "ratio = max(frq)/min(frq)\n",
    "\"{0:.1f}\".format(ratio)"
   ]
  },
  {
   "cell_type": "markdown",
   "metadata": {},
   "source": [
    "# Use the following for testing Decision tree\n",
    "\n",
    "- run 100 iterations\n",
    "- 50/50 training/testing\n",
    "- Decision tree"
   ]
  },
  {
   "cell_type": "code",
   "execution_count": 8,
   "metadata": {},
   "outputs": [],
   "source": [
    "res = dict()\n",
    "X, y= df.iloc[:,:-1].values, df[CLASS_NAME].values\n",
    "for i in range(100):\n",
    "    X_train, X_test, y_train, y_test = \\\n",
    "        train_test_split(X, y, test_size=.5, random_state=0)\n",
    "    clf_tree = DecisionTreeClassifier(random_state=0)\n",
    "    clf_tree.fit(X_train, y_train)\n",
    "    y_pred = clf_tree.predict(X_test)\n",
    "    tmp_res = classification_report(y_test, y_pred, output_dict=True)\n",
    "    res[\"precision\"] = res.get(\"precision\", 0) + tmp_res[\"weighted avg\"][\"precision\"]\n",
    "    res[\"recall\"] = res.get(\"recall\", 0) + tmp_res[\"weighted avg\"][\"recall\"]\n",
    "    res[\"f1-score\"] = res.get(\"f1-score\", 0) + tmp_res[\"weighted avg\"][\"f1-score\"]\n",
    "    res[\"specificity\"] = res.get(\"specificity\", 0) + tmp_res[str(MAJORITY)][\"recall\"]\n",
    "    res[\"sensitivity\"] = res.get(\"sensitivity\", 0) + tmp_res[str(MINORITY)][\"recall\"]\n",
    "    res[\"overall accuracy\"] = res.get(\"overall accuracy\", 0) + accuracy_score(y_test, y_pred,)\n",
    "    res[\"auc\"] = res.get(\"auc\", 0) + roc_auc_score(y_test, y_pred)\n",
    "    res[\"g_mean\"] = res.get(\"g_mean\", 0) + geometric_mean_score(y_test, y_pred)"
   ]
  },
  {
   "cell_type": "code",
   "execution_count": 9,
   "metadata": {},
   "outputs": [
    {
     "name": "stdout",
     "output_type": "stream",
     "text": [
      "precision: 0.96\n",
      "recall: 0.96\n",
      "f1-score: 0.96\n",
      "specificity: 0.99\n",
      "sensitivity: 0.66\n",
      "overall accuracy: 0.96\n",
      "auc: 0.83\n",
      "g_mean: 0.81\n"
     ]
    }
   ],
   "source": [
    "pprint_dict(res)"
   ]
  },
  {
   "cell_type": "markdown",
   "metadata": {},
   "source": [
    "# Use the following for testing SMOTE\n",
    "\n",
    "- run 100 iterations\n",
    "- 50/50 training/testing\n",
    "- Decision tree\n",
    "- N = 200"
   ]
  },
  {
   "cell_type": "code",
   "execution_count": 10,
   "metadata": {},
   "outputs": [
    {
     "name": "stdout",
     "output_type": "stream",
     "text": [
      "Shape of X_train before oversampling: (495, 13)\n",
      "Outcome distribution of X_train before oversampling: [452  43]\n",
      "Shape of X_train after oversampling: (904, 13)\n",
      "Outcome distribution of X_train after oversampling: [452 452]\n"
     ]
    }
   ],
   "source": [
    "res = dict()\n",
    "X, y= df.iloc[:,:-1].values, df[CLASS_NAME].values\n",
    "for i in range(100):\n",
    "    X_train, X_test, y_train, y_test = \\\n",
    "        train_test_split(X, y, test_size=.5, random_state=0)\n",
    "    if i == 0:\n",
    "        print(\"Shape of X_train before oversampling: \" + str(X_train.shape))\n",
    "        print(\"Outcome distribution of X_train before oversampling: \" + str(np.bincount(y_train)))\n",
    "    # Oversample training data\n",
    "    sm = SMOTE(random_state=0)\n",
    "    sm.fit(X_train, y_train)\n",
    "    X_train_r, y_train_r = sm.sample(X_train, y_train)\n",
    "    if i == 0:\n",
    "        print(\"Shape of X_train after oversampling: \" + str(X_train_r.shape))\n",
    "        print(\"Outcome distribution of X_train after oversampling: \" + str(np.bincount(y_train_r)))\n",
    "    # Build classifier on resampled data\n",
    "    clf_tree = DecisionTreeClassifier(random_state=0)\n",
    "    clf_tree.fit(X_train_r, y_train_r)\n",
    "    y_pred = clf_tree.predict(X_test)\n",
    "    tmp_res = classification_report(y_test, y_pred, output_dict=True)\n",
    "    res[\"precision\"] = res.get(\"precision\", 0) + tmp_res[\"weighted avg\"][\"precision\"]\n",
    "    res[\"recall\"] = res.get(\"recall\", 0) + tmp_res[\"weighted avg\"][\"recall\"]\n",
    "    res[\"f1-score\"] = res.get(\"f1-score\", 0) + tmp_res[\"weighted avg\"][\"f1-score\"]\n",
    "    res[\"specificity\"] = res.get(\"specificity\", 0) + tmp_res[str(MAJORITY)][\"recall\"]\n",
    "    res[\"sensitivity\"] = res.get(\"sensitivity\", 0) + tmp_res[str(MINORITY)][\"recall\"]\n",
    "    res[\"overall accuracy\"] = res.get(\"overall accuracy\", 0) + accuracy_score(y_test, y_pred,)\n",
    "    res[\"auc\"] = res.get(\"auc\", 0) + roc_auc_score(y_test, y_pred)\n",
    "    res[\"g_mean\"] = res.get(\"g_mean\", 0) + geometric_mean_score(y_test, y_pred)"
   ]
  },
  {
   "cell_type": "code",
   "execution_count": 11,
   "metadata": {},
   "outputs": [
    {
     "name": "stdout",
     "output_type": "stream",
     "text": [
      "precision: 0.95\n",
      "recall: 0.95\n",
      "f1-score: 0.95\n",
      "specificity: 0.97\n",
      "sensitivity: 0.79\n",
      "overall accuracy: 0.95\n",
      "auc: 0.88\n",
      "g_mean: 0.87\n"
     ]
    }
   ],
   "source": [
    "pprint_dict(res)"
   ]
  },
  {
   "cell_type": "markdown",
   "metadata": {},
   "source": [
    "# Use the following for testing ADASYN\n",
    "\n",
    "- run 100 iterations\n",
    "- 50/50 training/testing\n",
    "- Decision tree\n",
    "- A fully balanced dataset after synthesizing\n",
    "- Dth = 0.75 (Dth is a preset threshold for the maximum tolerated degree of class imbalance ratio)"
   ]
  },
  {
   "cell_type": "code",
   "execution_count": 12,
   "metadata": {},
   "outputs": [
    {
     "name": "stdout",
     "output_type": "stream",
     "text": [
      "Shape of X_train before oversampling: (495, 13)\n",
      "Outcome distribution of X_train before oversampling: [452  43]\n",
      "Shape of X_train after oversampling: (893, 13)\n",
      "Outcome distribution of X_train after oversampling: [452 441]\n"
     ]
    }
   ],
   "source": [
    "res = dict()\n",
    "X, y= df.iloc[:,:-1].values, df[CLASS_NAME].values\n",
    "for i in range(100):\n",
    "    X_train, X_test, y_train, y_test = \\\n",
    "        train_test_split(X, y, test_size=.5, random_state=0)\n",
    "    if i == 0:\n",
    "        print(\"Shape of X_train before oversampling: \" + str(X_train.shape))\n",
    "        print(\"Outcome distribution of X_train before oversampling: \" + str(np.bincount(y_train)))\n",
    "    # Oversample training data\n",
    "    ada = ADASYN(random_state=0)\n",
    "    ada.fit(X_train, y_train)\n",
    "    X_train_r, y_train_r = ada.sample(X_train, y_train)\n",
    "    if i == 0:\n",
    "        print(\"Shape of X_train after oversampling: \" + str(X_train_r.shape))\n",
    "        print(\"Outcome distribution of X_train after oversampling: \" + str(np.bincount(y_train_r)))\n",
    "    # Build classifier on resampled data\n",
    "    clf_tree = DecisionTreeClassifier(random_state=0)\n",
    "    clf_tree.fit(X_train_r, y_train_r)\n",
    "    y_pred = clf_tree.predict(X_test)\n",
    "    tmp_res = classification_report(y_test, y_pred, output_dict=True)\n",
    "    res[\"precision\"] = res.get(\"precision\", 0) + tmp_res[\"weighted avg\"][\"precision\"]\n",
    "    res[\"recall\"] = res.get(\"recall\", 0) + tmp_res[\"weighted avg\"][\"recall\"]\n",
    "    res[\"f1-score\"] = res.get(\"f1-score\", 0) + tmp_res[\"weighted avg\"][\"f1-score\"]\n",
    "    res[\"specificity\"] = res.get(\"specificity\", 0) + tmp_res[str(MAJORITY)][\"recall\"]\n",
    "    res[\"sensitivity\"] = res.get(\"sensitivity\", 0) + tmp_res[str(MINORITY)][\"recall\"]\n",
    "    res[\"overall accuracy\"] = res.get(\"overall accuracy\", 0) + accuracy_score(y_test, y_pred,)\n",
    "    res[\"auc\"] = res.get(\"auc\", 0) + roc_auc_score(y_test, y_pred)\n",
    "    res[\"g_mean\"] = res.get(\"g_mean\", 0) + geometric_mean_score(y_test, y_pred)"
   ]
  },
  {
   "cell_type": "code",
   "execution_count": 13,
   "metadata": {},
   "outputs": [
    {
     "name": "stdout",
     "output_type": "stream",
     "text": [
      "precision: 0.96\n",
      "recall: 0.95\n",
      "f1-score: 0.95\n",
      "specificity: 0.97\n",
      "sensitivity: 0.83\n",
      "overall accuracy: 0.95\n",
      "auc: 0.90\n",
      "g_mean: 0.90\n"
     ]
    }
   ],
   "source": [
    "pprint_dict(res)"
   ]
  },
  {
   "cell_type": "markdown",
   "metadata": {},
   "source": [
    "# Use the following for testing SMOTEBoost\n",
    "\n",
    "- run 100 iterations\n",
    "- 50/50 training/testing\n",
    "- Decision tree"
   ]
  },
  {
   "cell_type": "code",
   "execution_count": 14,
   "metadata": {},
   "outputs": [],
   "source": [
    "res = dict()\n",
    "X, y= df.iloc[:,:-1].values, df[CLASS_NAME].values\n",
    "for i in range(100):\n",
    "    X_train, X_test, y_train, y_test = \\\n",
    "        train_test_split(X, y, test_size=.5, random_state=0)\n",
    "    clf1 = SMOTEBoost(random_state=0)\n",
    "    clf1.fit(X_train, y_train)\n",
    "    y_pred = clf1.predict(X_test)\n",
    "    tmp_res = classification_report(y_test, y_pred, output_dict=True)\n",
    "    res[\"precision\"] = res.get(\"precision\", 0) + tmp_res[\"weighted avg\"][\"precision\"]\n",
    "    res[\"recall\"] = res.get(\"recall\", 0) + tmp_res[\"weighted avg\"][\"recall\"]\n",
    "    res[\"f1-score\"] = res.get(\"f1-score\", 0) + tmp_res[\"weighted avg\"][\"f1-score\"]\n",
    "    res[\"specificity\"] = res.get(\"specificity\", 0) + tmp_res[str(MAJORITY)][\"recall\"]\n",
    "    res[\"sensitivity\"] = res.get(\"sensitivity\", 0) + tmp_res[str(MINORITY)][\"recall\"]\n",
    "    res[\"overall accuracy\"] = res.get(\"overall accuracy\", 0) + accuracy_score(y_test, y_pred,)\n",
    "    res[\"auc\"] = res.get(\"auc\", 0) + roc_auc_score(y_test, y_pred)\n",
    "    res[\"g_mean\"] = res.get(\"g_mean\", 0) + geometric_mean_score(y_test, y_pred)"
   ]
  },
  {
   "cell_type": "code",
   "execution_count": 15,
   "metadata": {},
   "outputs": [
    {
     "name": "stdout",
     "output_type": "stream",
     "text": [
      "precision: 0.98\n",
      "recall: 0.97\n",
      "f1-score: 0.97\n",
      "specificity: 0.98\n",
      "sensitivity: 0.96\n",
      "overall accuracy: 0.97\n",
      "auc: 0.97\n",
      "g_mean: 0.97\n"
     ]
    }
   ],
   "source": [
    "pprint_dict(res)"
   ]
  },
  {
   "cell_type": "markdown",
   "metadata": {},
   "source": [
    "# Use the following for testing Dev_algo\n",
    "\n",
    "- run 100 iterations\n",
    "- 50/50 training/testing\n",
    "- Decision tree"
   ]
  },
  {
   "cell_type": "code",
   "execution_count": 16,
   "metadata": {},
   "outputs": [],
   "source": [
    "res = dict()\n",
    "X, y= df.iloc[:,:-1].values, df[CLASS_NAME].values\n",
    "for i in range(100):\n",
    "    X_train, X_test, y_train, y_test = \\\n",
    "        train_test_split(X, y, test_size=.5, random_state=0)\n",
    "    clf1 = DEVALGO(random_state=0, n_samples=319)\n",
    "    clf1.fit(X_train, y_train)\n",
    "    y_pred = clf1.predict(X_test)\n",
    "    tmp_res = classification_report(y_test, y_pred, output_dict=True)\n",
    "    res[\"precision\"] = res.get(\"precision\", 0) + tmp_res[\"weighted avg\"][\"precision\"]\n",
    "    res[\"recall\"] = res.get(\"recall\", 0) + tmp_res[\"weighted avg\"][\"recall\"]\n",
    "    res[\"f1-score\"] = res.get(\"f1-score\", 0) + tmp_res[\"weighted avg\"][\"f1-score\"]\n",
    "    res[\"specificity\"] = res.get(\"specificity\", 0) + tmp_res[str(MAJORITY)][\"recall\"]\n",
    "    res[\"sensitivity\"] = res.get(\"sensitivity\", 0) + tmp_res[str(MINORITY)][\"recall\"]\n",
    "    res[\"overall accuracy\"] = res.get(\"overall accuracy\", 0) + accuracy_score(y_test, y_pred,)\n",
    "    res[\"auc\"] = res.get(\"auc\", 0) + roc_auc_score(y_test, y_pred)\n",
    "    res[\"g_mean\"] = res.get(\"g_mean\", 0) + geometric_mean_score(y_test, y_pred)"
   ]
  },
  {
   "cell_type": "code",
   "execution_count": 17,
   "metadata": {},
   "outputs": [
    {
     "name": "stdout",
     "output_type": "stream",
     "text": [
      "precision: 0.99\n",
      "recall: 0.99\n",
      "f1-score: 0.99\n",
      "specificity: 0.99\n",
      "sensitivity: 0.98\n",
      "overall accuracy: 0.99\n",
      "auc: 0.98\n",
      "g_mean: 0.98\n"
     ]
    }
   ],
   "source": [
    " pprint_dict(res)"
   ]
  },
  {
   "cell_type": "raw",
   "metadata": {},
   "source": []
  }
 ],
 "metadata": {
  "kernelspec": {
   "display_name": "Python 3",
   "language": "python",
   "name": "python3"
  },
  "language_info": {
   "codemirror_mode": {
    "name": "ipython",
    "version": 3
   },
   "file_extension": ".py",
   "mimetype": "text/x-python",
   "name": "python",
   "nbconvert_exporter": "python",
   "pygments_lexer": "ipython3",
   "version": "3.6.8"
  }
 },
 "nbformat": 4,
 "nbformat_minor": 2
}
