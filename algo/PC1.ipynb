{
 "cells": [
  {
   "cell_type": "code",
   "execution_count": 1,
   "metadata": {},
   "outputs": [],
   "source": [
    "import sklearn\n",
    "import numpy as np\n",
    "import pandas as pd\n",
    "from dev import DEVALGO \n",
    "from smote import SMOTEBoost\n",
    "from sklearn.metrics import roc_auc_score\n",
    "from sklearn.metrics import accuracy_score\n",
    "from sklearn.metrics import confusion_matrix\n",
    "from sklearn.tree import DecisionTreeClassifier\n",
    "from imblearn.over_sampling import SMOTE, ADASYN\n",
    "from sklearn.metrics import classification_report\n",
    "from sklearn.model_selection import train_test_split\n",
    "from imblearn.metrics import geometric_mean_score"
   ]
  },
  {
   "cell_type": "code",
   "execution_count": 2,
   "metadata": {},
   "outputs": [],
   "source": [
    "MINORITY = 1\n",
    "MAJORITY = 0\n",
    "CLASS_NAME = \"defects\""
   ]
  },
  {
   "cell_type": "code",
   "execution_count": 3,
   "metadata": {},
   "outputs": [],
   "source": [
    "def pprint_dict(d):\n",
    "    for key, value in d.items():\n",
    "        print(key + \": \" + \"{0:.2f}\".format(value/100.0))"
   ]
  },
  {
   "cell_type": "code",
   "execution_count": 4,
   "metadata": {},
   "outputs": [
    {
     "data": {
      "text/html": [
       "<div>\n",
       "<style scoped>\n",
       "    .dataframe tbody tr th:only-of-type {\n",
       "        vertical-align: middle;\n",
       "    }\n",
       "\n",
       "    .dataframe tbody tr th {\n",
       "        vertical-align: top;\n",
       "    }\n",
       "\n",
       "    .dataframe thead th {\n",
       "        text-align: right;\n",
       "    }\n",
       "</style>\n",
       "<table border=\"1\" class=\"dataframe\">\n",
       "  <thead>\n",
       "    <tr style=\"text-align: right;\">\n",
       "      <th></th>\n",
       "      <th>loc</th>\n",
       "      <th>v(g)</th>\n",
       "      <th>ev(g)</th>\n",
       "      <th>iv(G)</th>\n",
       "      <th>N</th>\n",
       "      <th>V</th>\n",
       "      <th>L</th>\n",
       "      <th>D</th>\n",
       "      <th>I</th>\n",
       "      <th>E</th>\n",
       "      <th>...</th>\n",
       "      <th>lOCode</th>\n",
       "      <th>lOComment</th>\n",
       "      <th>locCodeAndComment</th>\n",
       "      <th>lOBlank</th>\n",
       "      <th>uniq_Op</th>\n",
       "      <th>uniq_Opnd</th>\n",
       "      <th>total_Op</th>\n",
       "      <th>total_Opnd</th>\n",
       "      <th>branchCount</th>\n",
       "      <th>defects</th>\n",
       "    </tr>\n",
       "  </thead>\n",
       "  <tbody>\n",
       "    <tr>\n",
       "      <th>0</th>\n",
       "      <td>27.0</td>\n",
       "      <td>19.0</td>\n",
       "      <td>17.0</td>\n",
       "      <td>3.0</td>\n",
       "      <td>238.0</td>\n",
       "      <td>1291.45</td>\n",
       "      <td>0.02</td>\n",
       "      <td>46.10</td>\n",
       "      <td>28.02</td>\n",
       "      <td>59529.74</td>\n",
       "      <td>...</td>\n",
       "      <td>27</td>\n",
       "      <td>0</td>\n",
       "      <td>0</td>\n",
       "      <td>3</td>\n",
       "      <td>22.0</td>\n",
       "      <td>21.0</td>\n",
       "      <td>150.0</td>\n",
       "      <td>88.0</td>\n",
       "      <td>37.0</td>\n",
       "      <td>False</td>\n",
       "    </tr>\n",
       "    <tr>\n",
       "      <th>1</th>\n",
       "      <td>11.0</td>\n",
       "      <td>4.0</td>\n",
       "      <td>3.0</td>\n",
       "      <td>2.0</td>\n",
       "      <td>62.0</td>\n",
       "      <td>312.75</td>\n",
       "      <td>0.08</td>\n",
       "      <td>12.71</td>\n",
       "      <td>24.61</td>\n",
       "      <td>3973.80</td>\n",
       "      <td>...</td>\n",
       "      <td>11</td>\n",
       "      <td>0</td>\n",
       "      <td>0</td>\n",
       "      <td>1</td>\n",
       "      <td>16.0</td>\n",
       "      <td>17.0</td>\n",
       "      <td>35.0</td>\n",
       "      <td>27.0</td>\n",
       "      <td>7.0</td>\n",
       "      <td>False</td>\n",
       "    </tr>\n",
       "    <tr>\n",
       "      <th>2</th>\n",
       "      <td>17.0</td>\n",
       "      <td>7.0</td>\n",
       "      <td>6.0</td>\n",
       "      <td>6.0</td>\n",
       "      <td>110.0</td>\n",
       "      <td>568.69</td>\n",
       "      <td>0.08</td>\n",
       "      <td>12.75</td>\n",
       "      <td>44.60</td>\n",
       "      <td>7250.82</td>\n",
       "      <td>...</td>\n",
       "      <td>17</td>\n",
       "      <td>0</td>\n",
       "      <td>0</td>\n",
       "      <td>1</td>\n",
       "      <td>12.0</td>\n",
       "      <td>24.0</td>\n",
       "      <td>59.0</td>\n",
       "      <td>51.0</td>\n",
       "      <td>13.0</td>\n",
       "      <td>False</td>\n",
       "    </tr>\n",
       "    <tr>\n",
       "      <th>3</th>\n",
       "      <td>12.0</td>\n",
       "      <td>3.0</td>\n",
       "      <td>1.0</td>\n",
       "      <td>3.0</td>\n",
       "      <td>22.0</td>\n",
       "      <td>85.95</td>\n",
       "      <td>0.22</td>\n",
       "      <td>4.50</td>\n",
       "      <td>19.10</td>\n",
       "      <td>386.78</td>\n",
       "      <td>...</td>\n",
       "      <td>9</td>\n",
       "      <td>2</td>\n",
       "      <td>3</td>\n",
       "      <td>5</td>\n",
       "      <td>9.0</td>\n",
       "      <td>6.0</td>\n",
       "      <td>16.0</td>\n",
       "      <td>6.0</td>\n",
       "      <td>4.0</td>\n",
       "      <td>False</td>\n",
       "    </tr>\n",
       "    <tr>\n",
       "      <th>4</th>\n",
       "      <td>13.0</td>\n",
       "      <td>4.0</td>\n",
       "      <td>1.0</td>\n",
       "      <td>4.0</td>\n",
       "      <td>60.0</td>\n",
       "      <td>291.48</td>\n",
       "      <td>0.09</td>\n",
       "      <td>10.56</td>\n",
       "      <td>27.60</td>\n",
       "      <td>3078.75</td>\n",
       "      <td>...</td>\n",
       "      <td>12</td>\n",
       "      <td>0</td>\n",
       "      <td>1</td>\n",
       "      <td>2</td>\n",
       "      <td>13.0</td>\n",
       "      <td>16.0</td>\n",
       "      <td>34.0</td>\n",
       "      <td>26.0</td>\n",
       "      <td>7.0</td>\n",
       "      <td>False</td>\n",
       "    </tr>\n",
       "  </tbody>\n",
       "</table>\n",
       "<p>5 rows × 22 columns</p>\n",
       "</div>"
      ],
      "text/plain": [
       "    loc  v(g)  ev(g)  iv(G)      N        V     L      D      I         E  \\\n",
       "0  27.0  19.0   17.0    3.0  238.0  1291.45  0.02  46.10  28.02  59529.74   \n",
       "1  11.0   4.0    3.0    2.0   62.0   312.75  0.08  12.71  24.61   3973.80   \n",
       "2  17.0   7.0    6.0    6.0  110.0   568.69  0.08  12.75  44.60   7250.82   \n",
       "3  12.0   3.0    1.0    3.0   22.0    85.95  0.22   4.50  19.10    386.78   \n",
       "4  13.0   4.0    1.0    4.0   60.0   291.48  0.09  10.56  27.60   3078.75   \n",
       "\n",
       "    ...     lOCode  lOComment  locCodeAndComment  lOBlank  uniq_Op  uniq_Opnd  \\\n",
       "0   ...         27          0                  0        3     22.0       21.0   \n",
       "1   ...         11          0                  0        1     16.0       17.0   \n",
       "2   ...         17          0                  0        1     12.0       24.0   \n",
       "3   ...          9          2                  3        5      9.0        6.0   \n",
       "4   ...         12          0                  1        2     13.0       16.0   \n",
       "\n",
       "   total_Op  total_Opnd  branchCount  defects  \n",
       "0     150.0        88.0         37.0    False  \n",
       "1      35.0        27.0          7.0    False  \n",
       "2      59.0        51.0         13.0    False  \n",
       "3      16.0         6.0          4.0    False  \n",
       "4      34.0        26.0          7.0    False  \n",
       "\n",
       "[5 rows x 22 columns]"
      ]
     },
     "execution_count": 4,
     "metadata": {},
     "output_type": "execute_result"
    }
   ],
   "source": [
    "df = pd.read_csv(\"data/PC1/pc1.csv\").sample(frac=1, random_state=0).reset_index(drop=True)\n",
    "df.head()"
   ]
  },
  {
   "cell_type": "code",
   "execution_count": 5,
   "metadata": {},
   "outputs": [
    {
     "data": {
      "text/plain": [
       "False    1032\n",
       "True       77\n",
       "Name: defects, dtype: int64"
      ]
     },
     "execution_count": 5,
     "metadata": {},
     "output_type": "execute_result"
    }
   ],
   "source": [
    "# Outcomes distribution\n",
    "df[CLASS_NAME].value_counts()"
   ]
  },
  {
   "cell_type": "code",
   "execution_count": 6,
   "metadata": {},
   "outputs": [
    {
     "data": {
      "text/html": [
       "<div>\n",
       "<style scoped>\n",
       "    .dataframe tbody tr th:only-of-type {\n",
       "        vertical-align: middle;\n",
       "    }\n",
       "\n",
       "    .dataframe tbody tr th {\n",
       "        vertical-align: top;\n",
       "    }\n",
       "\n",
       "    .dataframe thead th {\n",
       "        text-align: right;\n",
       "    }\n",
       "</style>\n",
       "<table border=\"1\" class=\"dataframe\">\n",
       "  <thead>\n",
       "    <tr style=\"text-align: right;\">\n",
       "      <th></th>\n",
       "      <th>loc</th>\n",
       "      <th>v(g)</th>\n",
       "      <th>ev(g)</th>\n",
       "      <th>iv(G)</th>\n",
       "      <th>N</th>\n",
       "      <th>V</th>\n",
       "      <th>L</th>\n",
       "      <th>D</th>\n",
       "      <th>I</th>\n",
       "      <th>E</th>\n",
       "      <th>...</th>\n",
       "      <th>lOCode</th>\n",
       "      <th>lOComment</th>\n",
       "      <th>locCodeAndComment</th>\n",
       "      <th>lOBlank</th>\n",
       "      <th>uniq_Op</th>\n",
       "      <th>uniq_Opnd</th>\n",
       "      <th>total_Op</th>\n",
       "      <th>total_Opnd</th>\n",
       "      <th>branchCount</th>\n",
       "      <th>defects</th>\n",
       "    </tr>\n",
       "  </thead>\n",
       "  <tbody>\n",
       "    <tr>\n",
       "      <th>0</th>\n",
       "      <td>27.0</td>\n",
       "      <td>19.0</td>\n",
       "      <td>17.0</td>\n",
       "      <td>3.0</td>\n",
       "      <td>238.0</td>\n",
       "      <td>1291.45</td>\n",
       "      <td>0.02</td>\n",
       "      <td>46.10</td>\n",
       "      <td>28.02</td>\n",
       "      <td>59529.74</td>\n",
       "      <td>...</td>\n",
       "      <td>27</td>\n",
       "      <td>0</td>\n",
       "      <td>0</td>\n",
       "      <td>3</td>\n",
       "      <td>22.0</td>\n",
       "      <td>21.0</td>\n",
       "      <td>150.0</td>\n",
       "      <td>88.0</td>\n",
       "      <td>37.0</td>\n",
       "      <td>0</td>\n",
       "    </tr>\n",
       "    <tr>\n",
       "      <th>1</th>\n",
       "      <td>11.0</td>\n",
       "      <td>4.0</td>\n",
       "      <td>3.0</td>\n",
       "      <td>2.0</td>\n",
       "      <td>62.0</td>\n",
       "      <td>312.75</td>\n",
       "      <td>0.08</td>\n",
       "      <td>12.71</td>\n",
       "      <td>24.61</td>\n",
       "      <td>3973.80</td>\n",
       "      <td>...</td>\n",
       "      <td>11</td>\n",
       "      <td>0</td>\n",
       "      <td>0</td>\n",
       "      <td>1</td>\n",
       "      <td>16.0</td>\n",
       "      <td>17.0</td>\n",
       "      <td>35.0</td>\n",
       "      <td>27.0</td>\n",
       "      <td>7.0</td>\n",
       "      <td>0</td>\n",
       "    </tr>\n",
       "    <tr>\n",
       "      <th>2</th>\n",
       "      <td>17.0</td>\n",
       "      <td>7.0</td>\n",
       "      <td>6.0</td>\n",
       "      <td>6.0</td>\n",
       "      <td>110.0</td>\n",
       "      <td>568.69</td>\n",
       "      <td>0.08</td>\n",
       "      <td>12.75</td>\n",
       "      <td>44.60</td>\n",
       "      <td>7250.82</td>\n",
       "      <td>...</td>\n",
       "      <td>17</td>\n",
       "      <td>0</td>\n",
       "      <td>0</td>\n",
       "      <td>1</td>\n",
       "      <td>12.0</td>\n",
       "      <td>24.0</td>\n",
       "      <td>59.0</td>\n",
       "      <td>51.0</td>\n",
       "      <td>13.0</td>\n",
       "      <td>0</td>\n",
       "    </tr>\n",
       "    <tr>\n",
       "      <th>3</th>\n",
       "      <td>12.0</td>\n",
       "      <td>3.0</td>\n",
       "      <td>1.0</td>\n",
       "      <td>3.0</td>\n",
       "      <td>22.0</td>\n",
       "      <td>85.95</td>\n",
       "      <td>0.22</td>\n",
       "      <td>4.50</td>\n",
       "      <td>19.10</td>\n",
       "      <td>386.78</td>\n",
       "      <td>...</td>\n",
       "      <td>9</td>\n",
       "      <td>2</td>\n",
       "      <td>3</td>\n",
       "      <td>5</td>\n",
       "      <td>9.0</td>\n",
       "      <td>6.0</td>\n",
       "      <td>16.0</td>\n",
       "      <td>6.0</td>\n",
       "      <td>4.0</td>\n",
       "      <td>0</td>\n",
       "    </tr>\n",
       "    <tr>\n",
       "      <th>4</th>\n",
       "      <td>13.0</td>\n",
       "      <td>4.0</td>\n",
       "      <td>1.0</td>\n",
       "      <td>4.0</td>\n",
       "      <td>60.0</td>\n",
       "      <td>291.48</td>\n",
       "      <td>0.09</td>\n",
       "      <td>10.56</td>\n",
       "      <td>27.60</td>\n",
       "      <td>3078.75</td>\n",
       "      <td>...</td>\n",
       "      <td>12</td>\n",
       "      <td>0</td>\n",
       "      <td>1</td>\n",
       "      <td>2</td>\n",
       "      <td>13.0</td>\n",
       "      <td>16.0</td>\n",
       "      <td>34.0</td>\n",
       "      <td>26.0</td>\n",
       "      <td>7.0</td>\n",
       "      <td>0</td>\n",
       "    </tr>\n",
       "  </tbody>\n",
       "</table>\n",
       "<p>5 rows × 22 columns</p>\n",
       "</div>"
      ],
      "text/plain": [
       "    loc  v(g)  ev(g)  iv(G)      N        V     L      D      I         E  \\\n",
       "0  27.0  19.0   17.0    3.0  238.0  1291.45  0.02  46.10  28.02  59529.74   \n",
       "1  11.0   4.0    3.0    2.0   62.0   312.75  0.08  12.71  24.61   3973.80   \n",
       "2  17.0   7.0    6.0    6.0  110.0   568.69  0.08  12.75  44.60   7250.82   \n",
       "3  12.0   3.0    1.0    3.0   22.0    85.95  0.22   4.50  19.10    386.78   \n",
       "4  13.0   4.0    1.0    4.0   60.0   291.48  0.09  10.56  27.60   3078.75   \n",
       "\n",
       "    ...     lOCode  lOComment  locCodeAndComment  lOBlank  uniq_Op  uniq_Opnd  \\\n",
       "0   ...         27          0                  0        3     22.0       21.0   \n",
       "1   ...         11          0                  0        1     16.0       17.0   \n",
       "2   ...         17          0                  0        1     12.0       24.0   \n",
       "3   ...          9          2                  3        5      9.0        6.0   \n",
       "4   ...         12          0                  1        2     13.0       16.0   \n",
       "\n",
       "   total_Op  total_Opnd  branchCount  defects  \n",
       "0     150.0        88.0         37.0        0  \n",
       "1      35.0        27.0          7.0        0  \n",
       "2      59.0        51.0         13.0        0  \n",
       "3      16.0         6.0          4.0        0  \n",
       "4      34.0        26.0          7.0        0  \n",
       "\n",
       "[5 rows x 22 columns]"
      ]
     },
     "execution_count": 6,
     "metadata": {},
     "output_type": "execute_result"
    }
   ],
   "source": [
    "# Uncomment this when testing on vowel\n",
    "df[CLASS_NAME].replace({False:0, True:1}, inplace=True)\n",
    "df.head()"
   ]
  },
  {
   "cell_type": "code",
   "execution_count": 7,
   "metadata": {},
   "outputs": [
    {
     "data": {
      "text/plain": [
       "'13.4'"
      ]
     },
     "execution_count": 7,
     "metadata": {},
     "output_type": "execute_result"
    }
   ],
   "source": [
    "# Calculate imbalanced ratio\n",
    "frq = df[CLASS_NAME].value_counts()\n",
    "ratio = max(frq)/min(frq)\n",
    "\"{0:.1f}\".format(ratio)"
   ]
  },
  {
   "cell_type": "markdown",
   "metadata": {},
   "source": [
    "# Use the following for testing Decision tree\n",
    "\n",
    "- run 100 iterations\n",
    "- 50/50 training/testing\n",
    "- Decision tree"
   ]
  },
  {
   "cell_type": "code",
   "execution_count": 8,
   "metadata": {},
   "outputs": [],
   "source": [
    "res = dict()\n",
    "X, y= df.iloc[:,:-1].values, df[CLASS_NAME].values\n",
    "for i in range(100):\n",
    "    X_train, X_test, y_train, y_test = \\\n",
    "        train_test_split(X, y, test_size=.5, random_state=0)\n",
    "    clf_tree = DecisionTreeClassifier(random_state=0)\n",
    "    clf_tree.fit(X_train, y_train)\n",
    "    y_pred = clf_tree.predict(X_test)\n",
    "    tmp_res = classification_report(y_test, y_pred, output_dict=True)\n",
    "    res[\"precision\"] = res.get(\"precision\", 0) + tmp_res[\"1\"][\"precision\"]\n",
    "    res[\"recall\"] = res.get(\"recall\", 0) + tmp_res[\"1\"][\"recall\"]\n",
    "    res[\"f1-score\"] = res.get(\"f1-score\", 0) + tmp_res[\"1\"][\"f1-score\"]\n",
    "    res[\"specificity\"] = res.get(\"specificity\", 0) + tmp_res[str(MAJORITY)][\"recall\"]\n",
    "    res[\"sensitivity\"] = res.get(\"sensitivity\", 0) + tmp_res[str(MINORITY)][\"recall\"]\n",
    "    res[\"overall accuracy\"] = res.get(\"overall accuracy\", 0) + accuracy_score(y_test, y_pred,)\n",
    "    res[\"auc\"] = res.get(\"auc\", 0) + roc_auc_score(y_test, y_pred)\n",
    "    res[\"g_mean\"] = res.get(\"g_mean\", 0) + geometric_mean_score(y_test, y_pred)"
   ]
  },
  {
   "cell_type": "code",
   "execution_count": 9,
   "metadata": {},
   "outputs": [
    {
     "name": "stdout",
     "output_type": "stream",
     "text": [
      "precision: 0.25\n",
      "recall: 0.27\n",
      "f1-score: 0.26\n",
      "specificity: 0.94\n",
      "sensitivity: 0.27\n",
      "overall accuracy: 0.90\n",
      "auc: 0.61\n",
      "g_mean: 0.50\n"
     ]
    }
   ],
   "source": [
    "pprint_dict(res)"
   ]
  },
  {
   "cell_type": "markdown",
   "metadata": {},
   "source": [
    "# Use the following for testing SMOTE\n",
    "\n",
    "- run 100 iterations\n",
    "- 50/50 training/testing\n",
    "- Decision tree\n",
    "- N = 200"
   ]
  },
  {
   "cell_type": "code",
   "execution_count": 10,
   "metadata": {},
   "outputs": [
    {
     "name": "stdout",
     "output_type": "stream",
     "text": [
      "Shape of X_train before oversampling: (554, 21)\n",
      "Outcome distribution of X_train before oversampling: [514  40]\n",
      "Shape of X_train after oversampling: (1028, 21)\n",
      "Outcome distribution of X_train after oversampling: [514 514]\n"
     ]
    }
   ],
   "source": [
    "res = dict()\n",
    "X, y= df.iloc[:,:-1].values, df[CLASS_NAME].values\n",
    "for i in range(100):\n",
    "    X_train, X_test, y_train, y_test = \\\n",
    "        train_test_split(X, y, test_size=.5, random_state=0)\n",
    "    if i == 0:\n",
    "        print(\"Shape of X_train before oversampling: \" + str(X_train.shape))\n",
    "        print(\"Outcome distribution of X_train before oversampling: \" + str(np.bincount(y_train)))\n",
    "    # Oversample training data\n",
    "    sm = SMOTE(random_state=0)\n",
    "    sm.fit(X_train, y_train)\n",
    "    X_train_r, y_train_r = sm.fit_resample(X_train, y_train)\n",
    "    if i == 0:\n",
    "        print(\"Shape of X_train after oversampling: \" + str(X_train_r.shape))\n",
    "        print(\"Outcome distribution of X_train after oversampling: \" + str(np.bincount(y_train_r)))\n",
    "    # Build classifier on resampled data\n",
    "    clf_tree = DecisionTreeClassifier(random_state=0)\n",
    "    clf_tree.fit(X_train_r, y_train_r)\n",
    "    y_pred = clf_tree.predict(X_test)\n",
    "    tmp_res = classification_report(y_test, y_pred, output_dict=True)\n",
    "    res[\"precision\"] = res.get(\"precision\", 0) + tmp_res[\"1\"][\"precision\"]\n",
    "    res[\"recall\"] = res.get(\"recall\", 0) + tmp_res[\"1\"][\"recall\"]\n",
    "    res[\"f1-score\"] = res.get(\"f1-score\", 0) + tmp_res[\"1\"][\"f1-score\"]\n",
    "    res[\"specificity\"] = res.get(\"specificity\", 0) + tmp_res[str(MAJORITY)][\"recall\"]\n",
    "    res[\"sensitivity\"] = res.get(\"sensitivity\", 0) + tmp_res[str(MINORITY)][\"recall\"]\n",
    "    res[\"overall accuracy\"] = res.get(\"overall accuracy\", 0) + accuracy_score(y_test, y_pred,)\n",
    "    res[\"auc\"] = res.get(\"auc\", 0) + roc_auc_score(y_test, y_pred)\n",
    "    res[\"g_mean\"] = res.get(\"g_mean\", 0) + geometric_mean_score(y_test, y_pred)"
   ]
  },
  {
   "cell_type": "code",
   "execution_count": 11,
   "metadata": {},
   "outputs": [
    {
     "name": "stdout",
     "output_type": "stream",
     "text": [
      "precision: 0.22\n",
      "recall: 0.38\n",
      "f1-score: 0.27\n",
      "specificity: 0.90\n",
      "sensitivity: 0.38\n",
      "overall accuracy: 0.87\n",
      "auc: 0.64\n",
      "g_mean: 0.58\n"
     ]
    }
   ],
   "source": [
    "pprint_dict(res)"
   ]
  },
  {
   "cell_type": "markdown",
   "metadata": {},
   "source": [
    "# Use the following for testing ADASYN\n",
    "\n",
    "- run 100 iterations\n",
    "- 50/50 training/testing\n",
    "- Decision tree\n",
    "- A fully balanced dataset after synthesizing\n",
    "- Dth = 0.75 (Dth is a preset threshold for the maximum tolerated degree of class imbalance ratio)"
   ]
  },
  {
   "cell_type": "code",
   "execution_count": 12,
   "metadata": {},
   "outputs": [
    {
     "name": "stdout",
     "output_type": "stream",
     "text": [
      "Shape of X_train before oversampling: (554, 21)\n",
      "Outcome distribution of X_train before oversampling: [514  40]\n",
      "Shape of X_train after oversampling: (1039, 21)\n",
      "Outcome distribution of X_train after oversampling: [514 525]\n"
     ]
    }
   ],
   "source": [
    "res = dict()\n",
    "X, y= df.iloc[:,:-1].values, df[CLASS_NAME].values\n",
    "for i in range(100):\n",
    "    X_train, X_test, y_train, y_test = \\\n",
    "        train_test_split(X, y, test_size=.5, random_state=0)\n",
    "    if i == 0:\n",
    "        print(\"Shape of X_train before oversampling: \" + str(X_train.shape))\n",
    "        print(\"Outcome distribution of X_train before oversampling: \" + str(np.bincount(y_train)))\n",
    "    # Oversample training data\n",
    "    ada = ADASYN(random_state=0)\n",
    "    ada.fit(X_train, y_train)\n",
    "    X_train_r, y_train_r = ada.fit_resample(X_train, y_train)\n",
    "    if i == 0:\n",
    "        print(\"Shape of X_train after oversampling: \" + str(X_train_r.shape))\n",
    "        print(\"Outcome distribution of X_train after oversampling: \" + str(np.bincount(y_train_r)))\n",
    "    # Build classifier on resampled data\n",
    "    clf_tree = DecisionTreeClassifier(random_state=0)\n",
    "    clf_tree.fit(X_train_r, y_train_r)\n",
    "    y_pred = clf_tree.predict(X_test)\n",
    "    tmp_res = classification_report(y_test, y_pred, output_dict=True)\n",
    "    res[\"precision\"] = res.get(\"precision\", 0) + tmp_res[\"1\"][\"precision\"]\n",
    "    res[\"recall\"] = res.get(\"recall\", 0) + tmp_res[\"1\"][\"recall\"]\n",
    "    res[\"f1-score\"] = res.get(\"f1-score\", 0) + tmp_res[\"1\"][\"f1-score\"]\n",
    "    res[\"specificity\"] = res.get(\"specificity\", 0) + tmp_res[str(MAJORITY)][\"recall\"]\n",
    "    res[\"sensitivity\"] = res.get(\"sensitivity\", 0) + tmp_res[str(MINORITY)][\"recall\"]\n",
    "    res[\"overall accuracy\"] = res.get(\"overall accuracy\", 0) + accuracy_score(y_test, y_pred,)\n",
    "    res[\"auc\"] = res.get(\"auc\", 0) + roc_auc_score(y_test, y_pred)\n",
    "    res[\"g_mean\"] = res.get(\"g_mean\", 0) + geometric_mean_score(y_test, y_pred)"
   ]
  },
  {
   "cell_type": "code",
   "execution_count": 13,
   "metadata": {},
   "outputs": [
    {
     "name": "stdout",
     "output_type": "stream",
     "text": [
      "precision: 0.26\n",
      "recall: 0.51\n",
      "f1-score: 0.35\n",
      "specificity: 0.90\n",
      "sensitivity: 0.51\n",
      "overall accuracy: 0.87\n",
      "auc: 0.71\n",
      "g_mean: 0.68\n"
     ]
    }
   ],
   "source": [
    "pprint_dict(res)"
   ]
  },
  {
   "cell_type": "markdown",
   "metadata": {},
   "source": [
    "# Use the following for testing SMOTEBoost\n",
    "\n",
    "- run 100 iterations\n",
    "- 50/50 training/testing\n",
    "- Decision tree"
   ]
  },
  {
   "cell_type": "code",
   "execution_count": 14,
   "metadata": {},
   "outputs": [],
   "source": [
    "res = dict()\n",
    "X, y= df.iloc[:,:-1].values, df[CLASS_NAME].values\n",
    "for i in range(100):\n",
    "    X_train, X_test, y_train, y_test = \\\n",
    "        train_test_split(X, y, test_size=.5, random_state=0)\n",
    "    clf1 = SMOTEBoost(random_state=0)\n",
    "    clf1.fit(X_train, y_train)\n",
    "    y_pred = clf1.predict(X_test)\n",
    "    tmp_res = classification_report(y_test, y_pred, output_dict=True)\n",
    "    res[\"precision\"] = res.get(\"precision\", 0) + tmp_res[\"1\"][\"precision\"]\n",
    "    res[\"recall\"] = res.get(\"recall\", 0) + tmp_res[\"1\"][\"recall\"]\n",
    "    res[\"f1-score\"] = res.get(\"f1-score\", 0) + tmp_res[\"1\"][\"f1-score\"]\n",
    "    res[\"specificity\"] = res.get(\"specificity\", 0) + tmp_res[str(MAJORITY)][\"recall\"]\n",
    "    res[\"sensitivity\"] = res.get(\"sensitivity\", 0) + tmp_res[str(MINORITY)][\"recall\"]\n",
    "    res[\"overall accuracy\"] = res.get(\"overall accuracy\", 0) + accuracy_score(y_test, y_pred,)\n",
    "    res[\"auc\"] = res.get(\"auc\", 0) + roc_auc_score(y_test, y_pred)\n",
    "    res[\"g_mean\"] = res.get(\"g_mean\", 0) + geometric_mean_score(y_test, y_pred)"
   ]
  },
  {
   "cell_type": "code",
   "execution_count": 15,
   "metadata": {},
   "outputs": [
    {
     "name": "stdout",
     "output_type": "stream",
     "text": [
      "precision: 0.16\n",
      "recall: 0.41\n",
      "f1-score: 0.23\n",
      "specificity: 0.85\n",
      "sensitivity: 0.41\n",
      "overall accuracy: 0.82\n",
      "auc: 0.63\n",
      "g_mean: 0.59\n"
     ]
    }
   ],
   "source": [
    "pprint_dict(res)"
   ]
  },
  {
   "cell_type": "markdown",
   "metadata": {},
   "source": [
    "# Use the following for testing Dev_algo\n",
    "\n",
    "- run 100 iterations\n",
    "- 50/50 training/testing\n",
    "- Decision tree"
   ]
  },
  {
   "cell_type": "code",
   "execution_count": 16,
   "metadata": {},
   "outputs": [],
   "source": [
    "res = dict()\n",
    "X, y= df.iloc[:,:-1].values, df[CLASS_NAME].values\n",
    "for i in range(100):\n",
    "    X_train, X_test, y_train, y_test = \\\n",
    "        train_test_split(X, y, test_size=.5, random_state=0)\n",
    "    unique, counts = np.unique(y_train, return_counts=True)\n",
    "    frequency = dict(zip(unique, counts))\n",
    "    clf1 = DEVALGO(random_state=0, n_samples=frequency[MAJORITY])\n",
    "    clf1.fit(X_train, y_train)\n",
    "    y_pred = clf1.predict(X_test)\n",
    "    tmp_res = classification_report(y_test, y_pred, output_dict=True)\n",
    "    res[\"precision\"] = res.get(\"precision\", 0) + tmp_res[\"1\"][\"precision\"]\n",
    "    res[\"recall\"] = res.get(\"recall\", 0) + tmp_res[\"1\"][\"recall\"]\n",
    "    res[\"f1-score\"] = res.get(\"f1-score\", 0) + tmp_res[\"1\"][\"f1-score\"]\n",
    "    res[\"specificity\"] = res.get(\"specificity\", 0) + tmp_res[str(MAJORITY)][\"recall\"]\n",
    "    res[\"sensitivity\"] = res.get(\"sensitivity\", 0) + tmp_res[str(MINORITY)][\"recall\"]\n",
    "    res[\"overall accuracy\"] = res.get(\"overall accuracy\", 0) + accuracy_score(y_test, y_pred,)\n",
    "    res[\"auc\"] = res.get(\"auc\", 0) + roc_auc_score(y_test, y_pred)\n",
    "    res[\"g_mean\"] = res.get(\"g_mean\", 0) + geometric_mean_score(y_test, y_pred)"
   ]
  },
  {
   "cell_type": "code",
   "execution_count": 17,
   "metadata": {},
   "outputs": [
    {
     "name": "stdout",
     "output_type": "stream",
     "text": [
      "precision: 0.34\n",
      "recall: 0.30\n",
      "f1-score: 0.32\n",
      "specificity: 0.96\n",
      "sensitivity: 0.30\n",
      "overall accuracy: 0.91\n",
      "auc: 0.63\n",
      "g_mean: 0.53\n"
     ]
    }
   ],
   "source": [
    " pprint_dict(res)"
   ]
  },
  {
   "cell_type": "raw",
   "metadata": {},
   "source": []
  }
 ],
 "metadata": {
  "kernelspec": {
   "display_name": "Python 3",
   "language": "python",
   "name": "python3"
  },
  "language_info": {
   "codemirror_mode": {
    "name": "ipython",
    "version": 3
   },
   "file_extension": ".py",
   "mimetype": "text/x-python",
   "name": "python",
   "nbconvert_exporter": "python",
   "pygments_lexer": "ipython3",
   "version": "3.7.2"
  }
 },
 "nbformat": 4,
 "nbformat_minor": 2
}
