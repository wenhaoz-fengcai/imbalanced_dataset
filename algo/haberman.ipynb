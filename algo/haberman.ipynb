{
 "cells": [
  {
   "cell_type": "code",
   "execution_count": 1,
   "metadata": {},
   "outputs": [],
   "source": [
    "import sklearn\n",
    "import numpy as np\n",
    "import pandas as pd\n",
    "from dev import DEVALGO \n",
    "from smote import SMOTEBoost\n",
    "from sklearn.metrics import roc_auc_score\n",
    "from sklearn.metrics import accuracy_score\n",
    "from sklearn.metrics import confusion_matrix\n",
    "from sklearn.tree import DecisionTreeClassifier\n",
    "from imblearn.over_sampling import SMOTE, ADASYN\n",
    "from sklearn.metrics import classification_report\n",
    "from sklearn.model_selection import train_test_split\n",
    "from imblearn.metrics import geometric_mean_score"
   ]
  },
  {
   "cell_type": "code",
   "execution_count": 2,
   "metadata": {},
   "outputs": [],
   "source": [
    "MINORITY = 1\n",
    "MAJORITY = 0\n",
    "CLASS_NAME = \"Survival status\""
   ]
  },
  {
   "cell_type": "code",
   "execution_count": 3,
   "metadata": {},
   "outputs": [],
   "source": [
    "def pprint_dict(d):\n",
    "    for key, value in d.items():\n",
    "        print(key + \": \" + \"{0:.2f}\".format(value/100.0))"
   ]
  },
  {
   "cell_type": "code",
   "execution_count": 4,
   "metadata": {},
   "outputs": [
    {
     "data": {
      "text/html": [
       "<div>\n",
       "<style scoped>\n",
       "    .dataframe tbody tr th:only-of-type {\n",
       "        vertical-align: middle;\n",
       "    }\n",
       "\n",
       "    .dataframe tbody tr th {\n",
       "        vertical-align: top;\n",
       "    }\n",
       "\n",
       "    .dataframe thead th {\n",
       "        text-align: right;\n",
       "    }\n",
       "</style>\n",
       "<table border=\"1\" class=\"dataframe\">\n",
       "  <thead>\n",
       "    <tr style=\"text-align: right;\">\n",
       "      <th></th>\n",
       "      <th>Age</th>\n",
       "      <th>Year operation</th>\n",
       "      <th>Axillary nodes detected</th>\n",
       "      <th>Survival status</th>\n",
       "    </tr>\n",
       "  </thead>\n",
       "  <tbody>\n",
       "    <tr>\n",
       "      <th>0</th>\n",
       "      <td>67</td>\n",
       "      <td>63</td>\n",
       "      <td>1</td>\n",
       "      <td>2</td>\n",
       "    </tr>\n",
       "    <tr>\n",
       "      <th>1</th>\n",
       "      <td>43</td>\n",
       "      <td>63</td>\n",
       "      <td>14</td>\n",
       "      <td>1</td>\n",
       "    </tr>\n",
       "    <tr>\n",
       "      <th>2</th>\n",
       "      <td>65</td>\n",
       "      <td>58</td>\n",
       "      <td>0</td>\n",
       "      <td>2</td>\n",
       "    </tr>\n",
       "    <tr>\n",
       "      <th>3</th>\n",
       "      <td>58</td>\n",
       "      <td>61</td>\n",
       "      <td>1</td>\n",
       "      <td>1</td>\n",
       "    </tr>\n",
       "    <tr>\n",
       "      <th>4</th>\n",
       "      <td>53</td>\n",
       "      <td>60</td>\n",
       "      <td>9</td>\n",
       "      <td>2</td>\n",
       "    </tr>\n",
       "  </tbody>\n",
       "</table>\n",
       "</div>"
      ],
      "text/plain": [
       "   Age   Year operation   Axillary nodes detected  Survival status\n",
       "0   67               63                         1                2\n",
       "1   43               63                        14                1\n",
       "2   65               58                         0                2\n",
       "3   58               61                         1                1\n",
       "4   53               60                         9                2"
      ]
     },
     "execution_count": 4,
     "metadata": {},
     "output_type": "execute_result"
    }
   ],
   "source": [
    "df = pd.read_csv(\"data/Haberman/haberman.csv\").sample(frac=1, random_state=0).reset_index(drop=True)\n",
    "df.head()"
   ]
  },
  {
   "cell_type": "code",
   "execution_count": 5,
   "metadata": {},
   "outputs": [
    {
     "data": {
      "text/html": [
       "<div>\n",
       "<style scoped>\n",
       "    .dataframe tbody tr th:only-of-type {\n",
       "        vertical-align: middle;\n",
       "    }\n",
       "\n",
       "    .dataframe tbody tr th {\n",
       "        vertical-align: top;\n",
       "    }\n",
       "\n",
       "    .dataframe thead th {\n",
       "        text-align: right;\n",
       "    }\n",
       "</style>\n",
       "<table border=\"1\" class=\"dataframe\">\n",
       "  <thead>\n",
       "    <tr style=\"text-align: right;\">\n",
       "      <th></th>\n",
       "      <th>Age</th>\n",
       "      <th>Year operation</th>\n",
       "      <th>Axillary nodes detected</th>\n",
       "      <th>Survival status</th>\n",
       "    </tr>\n",
       "  </thead>\n",
       "  <tbody>\n",
       "    <tr>\n",
       "      <th>0</th>\n",
       "      <td>67</td>\n",
       "      <td>63</td>\n",
       "      <td>1</td>\n",
       "      <td>1</td>\n",
       "    </tr>\n",
       "    <tr>\n",
       "      <th>1</th>\n",
       "      <td>43</td>\n",
       "      <td>63</td>\n",
       "      <td>14</td>\n",
       "      <td>0</td>\n",
       "    </tr>\n",
       "    <tr>\n",
       "      <th>2</th>\n",
       "      <td>65</td>\n",
       "      <td>58</td>\n",
       "      <td>0</td>\n",
       "      <td>1</td>\n",
       "    </tr>\n",
       "    <tr>\n",
       "      <th>3</th>\n",
       "      <td>58</td>\n",
       "      <td>61</td>\n",
       "      <td>1</td>\n",
       "      <td>0</td>\n",
       "    </tr>\n",
       "    <tr>\n",
       "      <th>4</th>\n",
       "      <td>53</td>\n",
       "      <td>60</td>\n",
       "      <td>9</td>\n",
       "      <td>1</td>\n",
       "    </tr>\n",
       "  </tbody>\n",
       "</table>\n",
       "</div>"
      ],
      "text/plain": [
       "   Age   Year operation   Axillary nodes detected  Survival status\n",
       "0   67               63                         1                1\n",
       "1   43               63                        14                0\n",
       "2   65               58                         0                1\n",
       "3   58               61                         1                0\n",
       "4   53               60                         9                1"
      ]
     },
     "execution_count": 5,
     "metadata": {},
     "output_type": "execute_result"
    }
   ],
   "source": [
    "# Uncomment this when testing on vowel\n",
    "df[CLASS_NAME].replace({1:0, 2:1}, inplace=True)\n",
    "df.head()"
   ]
  },
  {
   "cell_type": "code",
   "execution_count": 6,
   "metadata": {},
   "outputs": [
    {
     "data": {
      "text/plain": [
       "0    225\n",
       "1     81\n",
       "Name: Survival status, dtype: int64"
      ]
     },
     "execution_count": 6,
     "metadata": {},
     "output_type": "execute_result"
    }
   ],
   "source": [
    "# Outcomes distribution\n",
    "\n",
    "df[CLASS_NAME].value_counts()"
   ]
  },
  {
   "cell_type": "code",
   "execution_count": 7,
   "metadata": {},
   "outputs": [
    {
     "data": {
      "text/plain": [
       "'2.8'"
      ]
     },
     "execution_count": 7,
     "metadata": {},
     "output_type": "execute_result"
    }
   ],
   "source": [
    "# Calculate imbalanced ratio\n",
    "frq = df[CLASS_NAME].value_counts()\n",
    "ratio = max(frq)/min(frq)\n",
    "\"{0:.1f}\".format(ratio)"
   ]
  },
  {
   "cell_type": "markdown",
   "metadata": {},
   "source": [
    "# Use the following for testing Decision tree\n",
    "\n",
    "- run 100 iterations\n",
    "- 50/50 training/testing\n",
    "- Decision tree"
   ]
  },
  {
   "cell_type": "code",
   "execution_count": 8,
   "metadata": {},
   "outputs": [],
   "source": [
    "res = dict()\n",
    "X, y= df.iloc[:,:-1].values, df[CLASS_NAME].values\n",
    "for i in range(100):\n",
    "    X_train, X_test, y_train, y_test = \\\n",
    "        train_test_split(X, y, test_size=.5, random_state=0)\n",
    "    clf_tree = DecisionTreeClassifier(random_state=0)\n",
    "    clf_tree.fit(X_train, y_train)\n",
    "    y_pred = clf_tree.predict(X_test)\n",
    "    tmp_res = classification_report(y_test, y_pred, output_dict=True)\n",
    "    res[\"precision\"] = res.get(\"precision\", 0) + tmp_res[\"weighted avg\"][\"precision\"]\n",
    "    res[\"recall\"] = res.get(\"recall\", 0) + tmp_res[\"weighted avg\"][\"recall\"]\n",
    "    res[\"f1-score\"] = res.get(\"f1-score\", 0) + tmp_res[\"weighted avg\"][\"f1-score\"]\n",
    "    res[\"specificity\"] = res.get(\"specificity\", 0) + tmp_res[str(MAJORITY)][\"recall\"]\n",
    "    res[\"sensitivity\"] = res.get(\"sensitivity\", 0) + tmp_res[str(MINORITY)][\"recall\"]\n",
    "    res[\"overall accuracy\"] = res.get(\"overall accuracy\", 0) + accuracy_score(y_test, y_pred,)\n",
    "    res[\"auc\"] = res.get(\"auc\", 0) + roc_auc_score(y_test, y_pred)\n",
    "    res[\"g_mean\"] = res.get(\"g_mean\", 0) + geometric_mean_score(y_test, y_pred)"
   ]
  },
  {
   "cell_type": "code",
   "execution_count": 9,
   "metadata": {},
   "outputs": [
    {
     "name": "stdout",
     "output_type": "stream",
     "text": [
      "precision: 0.63\n",
      "recall: 0.67\n",
      "f1-score: 0.64\n",
      "specificity: 0.83\n",
      "sensitivity: 0.25\n",
      "overall accuracy: 0.67\n",
      "auc: 0.54\n",
      "g_mean: 0.46\n"
     ]
    }
   ],
   "source": [
    "pprint_dict(res)"
   ]
  },
  {
   "cell_type": "markdown",
   "metadata": {},
   "source": [
    "# Use the following for testing SMOTE\n",
    "\n",
    "- run 100 iterations\n",
    "- 50/50 training/testing\n",
    "- Decision tree\n",
    "- N = 200"
   ]
  },
  {
   "cell_type": "code",
   "execution_count": 10,
   "metadata": {},
   "outputs": [
    {
     "name": "stdout",
     "output_type": "stream",
     "text": [
      "Shape of X_train before oversampling: (153, 3)\n",
      "Outcome distribution of X_train before oversampling: [116  37]\n",
      "Shape of X_train after oversampling: (232, 3)\n",
      "Outcome distribution of X_train after oversampling: [116 116]\n"
     ]
    }
   ],
   "source": [
    "res = dict()\n",
    "X, y= df.iloc[:,:-1].values, df[CLASS_NAME].values\n",
    "for i in range(100):\n",
    "    X_train, X_test, y_train, y_test = \\\n",
    "        train_test_split(X, y, test_size=.5, random_state=0)\n",
    "    if i == 0:\n",
    "        print(\"Shape of X_train before oversampling: \" + str(X_train.shape))\n",
    "        print(\"Outcome distribution of X_train before oversampling: \" + str(np.bincount(y_train)))\n",
    "    # Oversample training data\n",
    "    sm = SMOTE(random_state=0)\n",
    "    sm.fit(X_train, y_train)\n",
    "    X_train_r, y_train_r = sm.sample(X_train, y_train)\n",
    "    if i == 0:\n",
    "        print(\"Shape of X_train after oversampling: \" + str(X_train_r.shape))\n",
    "        print(\"Outcome distribution of X_train after oversampling: \" + str(np.bincount(y_train_r)))\n",
    "    # Build classifier on resampled data\n",
    "    clf_tree = DecisionTreeClassifier(random_state=0)\n",
    "    clf_tree.fit(X_train_r, y_train_r)\n",
    "    y_pred = clf_tree.predict(X_test)\n",
    "    tmp_res = classification_report(y_test, y_pred, output_dict=True)\n",
    "    res[\"precision\"] = res.get(\"precision\", 0) + tmp_res[\"weighted avg\"][\"precision\"]\n",
    "    res[\"recall\"] = res.get(\"recall\", 0) + tmp_res[\"weighted avg\"][\"recall\"]\n",
    "    res[\"f1-score\"] = res.get(\"f1-score\", 0) + tmp_res[\"weighted avg\"][\"f1-score\"]\n",
    "    res[\"specificity\"] = res.get(\"specificity\", 0) + tmp_res[str(MAJORITY)][\"recall\"]\n",
    "    res[\"sensitivity\"] = res.get(\"sensitivity\", 0) + tmp_res[str(MINORITY)][\"recall\"]\n",
    "    res[\"overall accuracy\"] = res.get(\"overall accuracy\", 0) + accuracy_score(y_test, y_pred,)\n",
    "    res[\"auc\"] = res.get(\"auc\", 0) + roc_auc_score(y_test, y_pred)\n",
    "    res[\"g_mean\"] = res.get(\"g_mean\", 0) + geometric_mean_score(y_test, y_pred)"
   ]
  },
  {
   "cell_type": "code",
   "execution_count": 11,
   "metadata": {},
   "outputs": [
    {
     "name": "stdout",
     "output_type": "stream",
     "text": [
      "precision: 0.61\n",
      "recall: 0.63\n",
      "f1-score: 0.62\n",
      "specificity: 0.78\n",
      "sensitivity: 0.27\n",
      "overall accuracy: 0.63\n",
      "auc: 0.53\n",
      "g_mean: 0.46\n"
     ]
    }
   ],
   "source": [
    "pprint_dict(res)"
   ]
  },
  {
   "cell_type": "markdown",
   "metadata": {},
   "source": [
    "# Use the following for testing ADASYN\n",
    "\n",
    "- run 100 iterations\n",
    "- 50/50 training/testing\n",
    "- Decision tree\n",
    "- A fully balanced dataset after synthesizing\n",
    "- Dth = 0.75 (Dth is a preset threshold for the maximum tolerated degree of class imbalance ratio)"
   ]
  },
  {
   "cell_type": "code",
   "execution_count": 12,
   "metadata": {},
   "outputs": [
    {
     "name": "stdout",
     "output_type": "stream",
     "text": [
      "Shape of X_train before oversampling: (153, 3)\n",
      "Outcome distribution of X_train before oversampling: [116  37]\n",
      "Shape of X_train after oversampling: (227, 3)\n",
      "Outcome distribution of X_train after oversampling: [116 111]\n"
     ]
    }
   ],
   "source": [
    "res = dict()\n",
    "X, y= df.iloc[:,:-1].values, df[CLASS_NAME].values\n",
    "for i in range(100):\n",
    "    X_train, X_test, y_train, y_test = \\\n",
    "        train_test_split(X, y, test_size=.5, random_state=0)\n",
    "    if i == 0:\n",
    "        print(\"Shape of X_train before oversampling: \" + str(X_train.shape))\n",
    "        print(\"Outcome distribution of X_train before oversampling: \" + str(np.bincount(y_train)))\n",
    "    # Oversample training data\n",
    "    ada = ADASYN(random_state=0)\n",
    "    ada.fit(X_train, y_train)\n",
    "    X_train_r, y_train_r = ada.sample(X_train, y_train)\n",
    "    if i == 0:\n",
    "        print(\"Shape of X_train after oversampling: \" + str(X_train_r.shape))\n",
    "        print(\"Outcome distribution of X_train after oversampling: \" + str(np.bincount(y_train_r)))\n",
    "    # Build classifier on resampled data\n",
    "    clf_tree = DecisionTreeClassifier(random_state=0)\n",
    "    clf_tree.fit(X_train_r, y_train_r)\n",
    "    y_pred = clf_tree.predict(X_test)\n",
    "    tmp_res = classification_report(y_test, y_pred, output_dict=True)\n",
    "    res[\"precision\"] = res.get(\"precision\", 0) + tmp_res[\"weighted avg\"][\"precision\"]\n",
    "    res[\"recall\"] = res.get(\"recall\", 0) + tmp_res[\"weighted avg\"][\"recall\"]\n",
    "    res[\"f1-score\"] = res.get(\"f1-score\", 0) + tmp_res[\"weighted avg\"][\"f1-score\"]\n",
    "    res[\"specificity\"] = res.get(\"specificity\", 0) + tmp_res[str(MAJORITY)][\"recall\"]\n",
    "    res[\"sensitivity\"] = res.get(\"sensitivity\", 0) + tmp_res[str(MINORITY)][\"recall\"]\n",
    "    res[\"overall accuracy\"] = res.get(\"overall accuracy\", 0) + accuracy_score(y_test, y_pred,)\n",
    "    res[\"auc\"] = res.get(\"auc\", 0) + roc_auc_score(y_test, y_pred)\n",
    "    res[\"g_mean\"] = res.get(\"g_mean\", 0) + geometric_mean_score(y_test, y_pred)"
   ]
  },
  {
   "cell_type": "code",
   "execution_count": 13,
   "metadata": {},
   "outputs": [
    {
     "name": "stdout",
     "output_type": "stream",
     "text": [
      "precision: 0.66\n",
      "recall: 0.65\n",
      "f1-score: 0.65\n",
      "specificity: 0.72\n",
      "sensitivity: 0.45\n",
      "overall accuracy: 0.65\n",
      "auc: 0.59\n",
      "g_mean: 0.57\n"
     ]
    }
   ],
   "source": [
    "pprint_dict(res)"
   ]
  },
  {
   "cell_type": "markdown",
   "metadata": {},
   "source": [
    "# Use the following for testing SMOTEBoost\n",
    "\n",
    "- run 100 iterations\n",
    "- 50/50 training/testing\n",
    "- Decision tree"
   ]
  },
  {
   "cell_type": "code",
   "execution_count": 14,
   "metadata": {},
   "outputs": [],
   "source": [
    "res = dict()\n",
    "X, y= df.iloc[:,:-1].values, df[CLASS_NAME].values\n",
    "for i in range(100):\n",
    "    X_train, X_test, y_train, y_test = \\\n",
    "        train_test_split(X, y, test_size=.5, random_state=0)\n",
    "    clf1 = SMOTEBoost(random_state=0)\n",
    "    clf1.fit(X_train, y_train)\n",
    "    y_pred = clf1.predict(X_test)\n",
    "    tmp_res = classification_report(y_test, y_pred, output_dict=True)\n",
    "    res[\"precision\"] = res.get(\"precision\", 0) + tmp_res[\"weighted avg\"][\"precision\"]\n",
    "    res[\"recall\"] = res.get(\"recall\", 0) + tmp_res[\"weighted avg\"][\"recall\"]\n",
    "    res[\"f1-score\"] = res.get(\"f1-score\", 0) + tmp_res[\"weighted avg\"][\"f1-score\"]\n",
    "    res[\"specificity\"] = res.get(\"specificity\", 0) + tmp_res[str(MAJORITY)][\"recall\"]\n",
    "    res[\"sensitivity\"] = res.get(\"sensitivity\", 0) + tmp_res[str(MINORITY)][\"recall\"]\n",
    "    res[\"overall accuracy\"] = res.get(\"overall accuracy\", 0) + accuracy_score(y_test, y_pred,)\n",
    "    res[\"auc\"] = res.get(\"auc\", 0) + roc_auc_score(y_test, y_pred)\n",
    "    res[\"g_mean\"] = res.get(\"g_mean\", 0) + geometric_mean_score(y_test, y_pred)"
   ]
  },
  {
   "cell_type": "code",
   "execution_count": 15,
   "metadata": {},
   "outputs": [
    {
     "name": "stdout",
     "output_type": "stream",
     "text": [
      "precision: 0.70\n",
      "recall: 0.48\n",
      "f1-score: 0.48\n",
      "specificity: 0.34\n",
      "sensitivity: 0.84\n",
      "overall accuracy: 0.48\n",
      "auc: 0.59\n",
      "g_mean: 0.53\n"
     ]
    }
   ],
   "source": [
    "pprint_dict(res)"
   ]
  },
  {
   "cell_type": "markdown",
   "metadata": {},
   "source": [
    "# Use the following for testing Dev_algo\n",
    "\n",
    "- run 100 iterations\n",
    "- 50/50 training/testing\n",
    "- Decision tree"
   ]
  },
  {
   "cell_type": "code",
   "execution_count": 16,
   "metadata": {},
   "outputs": [],
   "source": [
    "res = dict()\n",
    "X, y= df.iloc[:,:-1].values, df[CLASS_NAME].values\n",
    "for i in range(100):\n",
    "    X_train, X_test, y_train, y_test = \\\n",
    "        train_test_split(X, y, test_size=.5, random_state=0)\n",
    "    clf1 = DEVALGO(random_state=0, n_samples=144)\n",
    "    clf1.fit(X_train, y_train)\n",
    "    y_pred = clf1.predict(X_test)\n",
    "    tmp_res = classification_report(y_test, y_pred, output_dict=True)\n",
    "    res[\"precision\"] = res.get(\"precision\", 0) + tmp_res[\"weighted avg\"][\"precision\"]\n",
    "    res[\"recall\"] = res.get(\"recall\", 0) + tmp_res[\"weighted avg\"][\"recall\"]\n",
    "    res[\"f1-score\"] = res.get(\"f1-score\", 0) + tmp_res[\"weighted avg\"][\"f1-score\"]\n",
    "    res[\"specificity\"] = res.get(\"specificity\", 0) + tmp_res[str(MAJORITY)][\"recall\"]\n",
    "    res[\"sensitivity\"] = res.get(\"sensitivity\", 0) + tmp_res[str(MINORITY)][\"recall\"]\n",
    "    res[\"overall accuracy\"] = res.get(\"overall accuracy\", 0) + accuracy_score(y_test, y_pred,)\n",
    "    res[\"auc\"] = res.get(\"auc\", 0) + roc_auc_score(y_test, y_pred)\n",
    "    res[\"g_mean\"] = res.get(\"g_mean\", 0) + geometric_mean_score(y_test, y_pred)"
   ]
  },
  {
   "cell_type": "code",
   "execution_count": 17,
   "metadata": {},
   "outputs": [
    {
     "name": "stdout",
     "output_type": "stream",
     "text": [
      "precision: 0.64\n",
      "recall: 0.50\n",
      "f1-score: 0.52\n",
      "specificity: 0.43\n",
      "sensitivity: 0.68\n",
      "overall accuracy: 0.50\n",
      "auc: 0.56\n",
      "g_mean: 0.54\n"
     ]
    }
   ],
   "source": [
    " pprint_dict(res)"
   ]
  },
  {
   "cell_type": "raw",
   "metadata": {},
   "source": []
  }
 ],
 "metadata": {
  "kernelspec": {
   "display_name": "Python 3",
   "language": "python",
   "name": "python3"
  },
  "language_info": {
   "codemirror_mode": {
    "name": "ipython",
    "version": 3
   },
   "file_extension": ".py",
   "mimetype": "text/x-python",
   "name": "python",
   "nbconvert_exporter": "python",
   "pygments_lexer": "ipython3",
   "version": "3.6.8"
  }
 },
 "nbformat": 4,
 "nbformat_minor": 2
}
