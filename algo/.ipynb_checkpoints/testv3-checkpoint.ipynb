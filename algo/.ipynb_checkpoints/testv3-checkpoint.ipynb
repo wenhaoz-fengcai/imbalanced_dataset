{
 "cells": [
  {
   "cell_type": "code",
   "execution_count": 1,
   "metadata": {},
   "outputs": [],
   "source": [
    "import sklearn\n",
    "import numpy as np\n",
    "import pandas as pd\n",
    "from dev import DEVALGO \n",
    "from smote import SMOTEBoost\n",
    "from sklearn.metrics import roc_auc_score\n",
    "from sklearn.metrics import accuracy_score\n",
    "from sklearn.metrics import confusion_matrix\n",
    "from sklearn.tree import DecisionTreeClassifier\n",
    "from imblearn.over_sampling import SMOTE, ADASYN\n",
    "from sklearn.metrics import classification_report\n",
    "from sklearn.model_selection import train_test_split\n",
    "from imblearn.metrics import geometric_mean_score"
   ]
  },
  {
   "cell_type": "code",
   "execution_count": 2,
   "metadata": {},
   "outputs": [],
   "source": [
    "MINORITY = 1\n",
    "MAJORITY = 0\n",
    "CLASS_NAME = \"class\""
   ]
  },
  {
   "cell_type": "code",
   "execution_count": 3,
   "metadata": {},
   "outputs": [],
   "source": [
    "def pprint_dict(d):\n",
    "    for key, value in d.items():\n",
    "        print(key + \": \" + \"{0:.2f}\".format(value/100.0))"
   ]
  },
  {
   "cell_type": "code",
   "execution_count": 4,
   "metadata": {},
   "outputs": [
    {
     "data": {
      "text/html": [
       "<div>\n",
       "<style scoped>\n",
       "    .dataframe tbody tr th:only-of-type {\n",
       "        vertical-align: middle;\n",
       "    }\n",
       "\n",
       "    .dataframe tbody tr th {\n",
       "        vertical-align: top;\n",
       "    }\n",
       "\n",
       "    .dataframe thead th {\n",
       "        text-align: right;\n",
       "    }\n",
       "</style>\n",
       "<table border=\"1\" class=\"dataframe\">\n",
       "  <thead>\n",
       "    <tr style=\"text-align: right;\">\n",
       "      <th></th>\n",
       "      <th>num_pregnant</th>\n",
       "      <th>plasma_glucose</th>\n",
       "      <th>blood_pressure</th>\n",
       "      <th>skin_fold_thickness</th>\n",
       "      <th>serum_insulin</th>\n",
       "      <th>bmi</th>\n",
       "      <th>diabetes_pedigree</th>\n",
       "      <th>age</th>\n",
       "      <th>class</th>\n",
       "    </tr>\n",
       "  </thead>\n",
       "  <tbody>\n",
       "    <tr>\n",
       "      <th>0</th>\n",
       "      <td>6</td>\n",
       "      <td>148</td>\n",
       "      <td>72</td>\n",
       "      <td>35</td>\n",
       "      <td>0</td>\n",
       "      <td>33.6</td>\n",
       "      <td>0.627</td>\n",
       "      <td>50</td>\n",
       "      <td>1</td>\n",
       "    </tr>\n",
       "    <tr>\n",
       "      <th>1</th>\n",
       "      <td>1</td>\n",
       "      <td>85</td>\n",
       "      <td>66</td>\n",
       "      <td>29</td>\n",
       "      <td>0</td>\n",
       "      <td>26.6</td>\n",
       "      <td>0.351</td>\n",
       "      <td>31</td>\n",
       "      <td>0</td>\n",
       "    </tr>\n",
       "    <tr>\n",
       "      <th>2</th>\n",
       "      <td>8</td>\n",
       "      <td>183</td>\n",
       "      <td>64</td>\n",
       "      <td>0</td>\n",
       "      <td>0</td>\n",
       "      <td>23.3</td>\n",
       "      <td>0.672</td>\n",
       "      <td>32</td>\n",
       "      <td>1</td>\n",
       "    </tr>\n",
       "    <tr>\n",
       "      <th>3</th>\n",
       "      <td>1</td>\n",
       "      <td>89</td>\n",
       "      <td>66</td>\n",
       "      <td>23</td>\n",
       "      <td>94</td>\n",
       "      <td>28.1</td>\n",
       "      <td>0.167</td>\n",
       "      <td>21</td>\n",
       "      <td>0</td>\n",
       "    </tr>\n",
       "    <tr>\n",
       "      <th>4</th>\n",
       "      <td>0</td>\n",
       "      <td>137</td>\n",
       "      <td>40</td>\n",
       "      <td>35</td>\n",
       "      <td>168</td>\n",
       "      <td>43.1</td>\n",
       "      <td>2.288</td>\n",
       "      <td>33</td>\n",
       "      <td>1</td>\n",
       "    </tr>\n",
       "  </tbody>\n",
       "</table>\n",
       "</div>"
      ],
      "text/plain": [
       "   num_pregnant  plasma_glucose  blood_pressure  skin_fold_thickness  \\\n",
       "0             6             148              72                   35   \n",
       "1             1              85              66                   29   \n",
       "2             8             183              64                    0   \n",
       "3             1              89              66                   23   \n",
       "4             0             137              40                   35   \n",
       "\n",
       "   serum_insulin   bmi  diabetes_pedigree  age  class  \n",
       "0              0  33.6              0.627   50      1  \n",
       "1              0  26.6              0.351   31      0  \n",
       "2              0  23.3              0.672   32      1  \n",
       "3             94  28.1              0.167   21      0  \n",
       "4            168  43.1              2.288   33      1  "
      ]
     },
     "execution_count": 4,
     "metadata": {},
     "output_type": "execute_result"
    }
   ],
   "source": [
    "df = pd.read_csv(\"data/pima/pima-indians-diabetes.csv\")\n",
    "df.head()"
   ]
  },
  {
   "cell_type": "code",
   "execution_count": 5,
   "metadata": {},
   "outputs": [
    {
     "data": {
      "text/plain": [
       "0    500\n",
       "1    268\n",
       "Name: class, dtype: int64"
      ]
     },
     "execution_count": 5,
     "metadata": {},
     "output_type": "execute_result"
    }
   ],
   "source": [
    "# Outcomes distribution\n",
    "frq = df[\"class\"].value_counts()\n",
    "df[\"class\"].value_counts()"
   ]
  },
  {
   "cell_type": "code",
   "execution_count": 6,
   "metadata": {},
   "outputs": [
    {
     "data": {
      "text/plain": [
       "'1.9'"
      ]
     },
     "execution_count": 6,
     "metadata": {},
     "output_type": "execute_result"
    }
   ],
   "source": [
    "# Calculate imbalanced ratio\n",
    "ratio = max(frq)/min(frq)\n",
    "\"{0:.1f}\".format(ratio)"
   ]
  },
  {
   "cell_type": "markdown",
   "metadata": {},
   "source": [
    "# Use the following for testing Decision tree\n",
    "\n",
    "- run 100 iterations\n",
    "- 50/50 training/testing\n",
    "- Decision tree"
   ]
  },
  {
   "cell_type": "code",
   "execution_count": 7,
   "metadata": {},
   "outputs": [],
   "source": [
    "res = dict()\n",
    "X, y= df.iloc[:,:-1].values, df[CLASS_NAME].values\n",
    "for i in range(100):\n",
    "    X_train, X_test, y_train, y_test = \\\n",
    "        train_test_split(X, y, test_size=.5, random_state=0)\n",
    "    clf_tree = DecisionTreeClassifier(random_state=0)\n",
    "    clf_tree.fit(X_train, y_train)\n",
    "    y_pred = clf_tree.predict(X_test)\n",
    "    tmp_res = classification_report(y_test, y_pred, output_dict=True)\n",
    "    res[\"precision\"] = res.get(\"precision\", 0) + tmp_res[\"weighted avg\"][\"precision\"]\n",
    "    res[\"recall\"] = res.get(\"recall\", 0) + tmp_res[\"weighted avg\"][\"recall\"]\n",
    "    res[\"f1-score\"] = res.get(\"f1-score\", 0) + tmp_res[\"weighted avg\"][\"f1-score\"]\n",
    "    res[\"specificity\"] = res.get(\"specificity\", 0) + tmp_res[str(MAJORITY)][\"recall\"]\n",
    "    res[\"sensitivity\"] = res.get(\"sensitivity\", 0) + tmp_res[str(MINORITY)][\"recall\"]\n",
    "    res[\"overall accuracy\"] = res.get(\"overall accuracy\", 0) + accuracy_score(y_test, y_pred,)\n",
    "    res[\"auc\"] = res.get(\"auc\", 0) + roc_auc_score(y_test, y_pred)\n",
    "    res[\"g_mean\"] = res.get(\"g_mean\", 0) + geometric_mean_score(y_test, y_pred)"
   ]
  },
  {
   "cell_type": "code",
   "execution_count": 8,
   "metadata": {},
   "outputs": [
    {
     "name": "stdout",
     "output_type": "stream",
     "text": [
      "precision: 0.70\n",
      "recall: 0.70\n",
      "f1-score: 0.70\n",
      "specificity: 0.76\n",
      "sensitivity: 0.56\n",
      "overall accuracy: 0.70\n",
      "auc: 0.66\n",
      "g_mean: 0.66\n"
     ]
    }
   ],
   "source": [
    "pprint_dict(res)"
   ]
  },
  {
   "cell_type": "markdown",
   "metadata": {},
   "source": [
    "# Use the following for testing SMOTE\n",
    "\n",
    "- run 100 iterations\n",
    "- 50/50 training/testing\n",
    "- Decision tree\n",
    "- N = 200"
   ]
  },
  {
   "cell_type": "code",
   "execution_count": 9,
   "metadata": {},
   "outputs": [
    {
     "name": "stdout",
     "output_type": "stream",
     "text": [
      "Shape of X_train before oversampling: (384, 8)\n",
      "Outcome distribution of X_train before oversampling: [247 137]\n",
      "Shape of X_train after oversampling: (494, 8)\n",
      "Outcome distribution of X_train after oversampling: [247 247]\n"
     ]
    }
   ],
   "source": [
    "res = dict()\n",
    "X, y= df.iloc[:,:-1].values, df[CLASS_NAME].values\n",
    "for i in range(100):\n",
    "    X_train, X_test, y_train, y_test = \\\n",
    "        train_test_split(X, y, test_size=.5, random_state=0)\n",
    "    if i == 0:\n",
    "        print(\"Shape of X_train before oversampling: \" + str(X_train.shape))\n",
    "        print(\"Outcome distribution of X_train before oversampling: \" + str(np.bincount(y_train)))\n",
    "    # Oversample training data\n",
    "    sm = SMOTE(random_state=0)\n",
    "    sm.fit(X_train, y_train)\n",
    "    X_train_r, y_train_r = sm.sample(X_train, y_train)\n",
    "    if i == 0:\n",
    "        print(\"Shape of X_train after oversampling: \" + str(X_train_r.shape))\n",
    "        print(\"Outcome distribution of X_train after oversampling: \" + str(np.bincount(y_train_r)))\n",
    "    # Build classifier on resampled data\n",
    "    clf_tree = DecisionTreeClassifier(random_state=0)\n",
    "    clf_tree.fit(X_train_r, y_train_r)\n",
    "    y_pred = clf_tree.predict(X_test)\n",
    "    tmp_res = classification_report(y_test, y_pred, output_dict=True)\n",
    "    res[\"precision\"] = res.get(\"precision\", 0) + tmp_res[\"weighted avg\"][\"precision\"]\n",
    "    res[\"recall\"] = res.get(\"recall\", 0) + tmp_res[\"weighted avg\"][\"recall\"]\n",
    "    res[\"f1-score\"] = res.get(\"f1-score\", 0) + tmp_res[\"weighted avg\"][\"f1-score\"]\n",
    "    res[\"specificity\"] = res.get(\"specificity\", 0) + tmp_res[str(MAJORITY)][\"recall\"]\n",
    "    res[\"sensitivity\"] = res.get(\"sensitivity\", 0) + tmp_res[str(MINORITY)][\"recall\"]\n",
    "    res[\"overall accuracy\"] = res.get(\"overall accuracy\", 0) + accuracy_score(y_test, y_pred,)\n",
    "    res[\"auc\"] = res.get(\"auc\", 0) + roc_auc_score(y_test, y_pred)\n",
    "    res[\"g_mean\"] = res.get(\"g_mean\", 0) + geometric_mean_score(y_test, y_pred)"
   ]
  },
  {
   "cell_type": "code",
   "execution_count": 10,
   "metadata": {},
   "outputs": [
    {
     "name": "stdout",
     "output_type": "stream",
     "text": [
      "precision: 0.68\n",
      "recall: 0.67\n",
      "f1-score: 0.67\n",
      "specificity: 0.71\n",
      "sensitivity: 0.59\n",
      "overall accuracy: 0.67\n",
      "auc: 0.65\n",
      "g_mean: 0.65\n"
     ]
    }
   ],
   "source": [
    "pprint_dict(res)"
   ]
  },
  {
   "cell_type": "markdown",
   "metadata": {},
   "source": [
    "# Use the following for testing ADASYN\n",
    "\n",
    "- run 100 iterations\n",
    "- 50/50 training/testing\n",
    "- Decision tree\n",
    "- A fully balanced dataset after synthesizing\n",
    "- Dth = 0.75 (Dth is a preset threshold for the maximum tolerated degree of class imbalance ratio)"
   ]
  },
  {
   "cell_type": "code",
   "execution_count": 11,
   "metadata": {},
   "outputs": [
    {
     "name": "stdout",
     "output_type": "stream",
     "text": [
      "Shape of X_train before oversampling: (384, 8)\n",
      "Outcome distribution of X_train before oversampling: [247 137]\n",
      "Shape of X_train after oversampling: (499, 8)\n",
      "Outcome distribution of X_train after oversampling: [247 252]\n"
     ]
    }
   ],
   "source": [
    "res = dict()\n",
    "X, y= df.iloc[:,:-1].values, df[CLASS_NAME].values\n",
    "for i in range(100):\n",
    "    X_train, X_test, y_train, y_test = \\\n",
    "        train_test_split(X, y, test_size=.5, random_state=0)\n",
    "    if i == 0:\n",
    "        print(\"Shape of X_train before oversampling: \" + str(X_train.shape))\n",
    "        print(\"Outcome distribution of X_train before oversampling: \" + str(np.bincount(y_train)))\n",
    "    # Oversample training data\n",
    "    ada = ADASYN(random_state=0)\n",
    "    ada.fit(X_train, y_train)\n",
    "    X_train_r, y_train_r = ada.sample(X_train, y_train)\n",
    "    if i == 0:\n",
    "        print(\"Shape of X_train after oversampling: \" + str(X_train_r.shape))\n",
    "        print(\"Outcome distribution of X_train after oversampling: \" + str(np.bincount(y_train_r)))\n",
    "    # Build classifier on resampled data\n",
    "    clf_tree = DecisionTreeClassifier(random_state=0)\n",
    "    clf_tree.fit(X_train_r, y_train_r)\n",
    "    y_pred = clf_tree.predict(X_test)\n",
    "    tmp_res = classification_report(y_test, y_pred, output_dict=True)\n",
    "    res[\"precision\"] = res.get(\"precision\", 0) + tmp_res[\"weighted avg\"][\"precision\"]\n",
    "    res[\"recall\"] = res.get(\"recall\", 0) + tmp_res[\"weighted avg\"][\"recall\"]\n",
    "    res[\"f1-score\"] = res.get(\"f1-score\", 0) + tmp_res[\"weighted avg\"][\"f1-score\"]\n",
    "    res[\"specificity\"] = res.get(\"specificity\", 0) + tmp_res[str(MAJORITY)][\"recall\"]\n",
    "    res[\"sensitivity\"] = res.get(\"sensitivity\", 0) + tmp_res[str(MINORITY)][\"recall\"]\n",
    "    res[\"overall accuracy\"] = res.get(\"overall accuracy\", 0) + accuracy_score(y_test, y_pred,)\n",
    "    res[\"auc\"] = res.get(\"auc\", 0) + roc_auc_score(y_test, y_pred)\n",
    "    res[\"g_mean\"] = res.get(\"g_mean\", 0) + geometric_mean_score(y_test, y_pred)"
   ]
  },
  {
   "cell_type": "code",
   "execution_count": 12,
   "metadata": {},
   "outputs": [
    {
     "name": "stdout",
     "output_type": "stream",
     "text": [
      "precision: 0.67\n",
      "recall: 0.68\n",
      "f1-score: 0.67\n",
      "specificity: 0.77\n",
      "sensitivity: 0.49\n",
      "overall accuracy: 0.68\n",
      "auc: 0.63\n",
      "g_mean: 0.62\n"
     ]
    }
   ],
   "source": [
    "pprint_dict(res)"
   ]
  },
  {
   "cell_type": "markdown",
   "metadata": {},
   "source": [
    "# Use the following for testing SMOTEBoost\n",
    "\n",
    "- run 100 iterations\n",
    "- 50/50 training/testing\n",
    "- Decision tree"
   ]
  },
  {
   "cell_type": "code",
   "execution_count": 13,
   "metadata": {},
   "outputs": [],
   "source": [
    "res = dict()\n",
    "X, y= df.iloc[:,:-1].values, df[CLASS_NAME].values\n",
    "for i in range(100):\n",
    "    X_train, X_test, y_train, y_test = \\\n",
    "        train_test_split(X, y, test_size=.5, random_state=0)\n",
    "    clf1 = SMOTEBoost(random_state=0)\n",
    "    clf1.fit(X_train, y_train)\n",
    "    y_pred = clf1.predict(X_test)\n",
    "    tmp_res = classification_report(y_test, y_pred, output_dict=True)\n",
    "    res[\"precision\"] = res.get(\"precision\", 0) + tmp_res[\"weighted avg\"][\"precision\"]\n",
    "    res[\"recall\"] = res.get(\"recall\", 0) + tmp_res[\"weighted avg\"][\"recall\"]\n",
    "    res[\"f1-score\"] = res.get(\"f1-score\", 0) + tmp_res[\"weighted avg\"][\"f1-score\"]\n",
    "    res[\"specificity\"] = res.get(\"specificity\", 0) + tmp_res[str(MAJORITY)][\"recall\"]\n",
    "    res[\"sensitivity\"] = res.get(\"sensitivity\", 0) + tmp_res[str(MINORITY)][\"recall\"]\n",
    "    res[\"overall accuracy\"] = res.get(\"overall accuracy\", 0) + accuracy_score(y_test, y_pred,)\n",
    "    res[\"auc\"] = res.get(\"auc\", 0) + roc_auc_score(y_test, y_pred)\n",
    "    res[\"g_mean\"] = res.get(\"g_mean\", 0) + geometric_mean_score(y_test, y_pred)"
   ]
  },
  {
   "cell_type": "code",
   "execution_count": 14,
   "metadata": {},
   "outputs": [
    {
     "name": "stdout",
     "output_type": "stream",
     "text": [
      "precision: 0.76\n",
      "recall: 0.66\n",
      "f1-score: 0.66\n",
      "specificity: 0.55\n",
      "sensitivity: 0.87\n",
      "overall accuracy: 0.66\n",
      "auc: 0.71\n",
      "g_mean: 0.69\n"
     ]
    }
   ],
   "source": [
    "pprint_dict(res)"
   ]
  },
  {
   "cell_type": "markdown",
   "metadata": {},
   "source": [
    "# Use the following for testing Dev_algo\n",
    "\n",
    "- run 100 iterations\n",
    "- 50/50 training/testing\n",
    "- Decision tree"
   ]
  },
  {
   "cell_type": "code",
   "execution_count": 15,
   "metadata": {},
   "outputs": [],
   "source": [
    "res = dict()\n",
    "X, y= df.iloc[:,:-1].values, df[CLASS_NAME].values\n",
    "for i in range(100):\n",
    "    X_train, X_test, y_train, y_test = \\\n",
    "        train_test_split(X, y, test_size=.5, random_state=0)\n",
    "    clf1 = DEVALGO(random_state=0, n_samples=232)\n",
    "    clf1.fit(X_train, y_train)\n",
    "    y_pred = clf1.predict(X_test)\n",
    "    tmp_res = classification_report(y_test, y_pred, output_dict=True)\n",
    "    res[\"precision\"] = res.get(\"precision\", 0) + tmp_res[\"weighted avg\"][\"precision\"]\n",
    "    res[\"recall\"] = res.get(\"recall\", 0) + tmp_res[\"weighted avg\"][\"recall\"]\n",
    "    res[\"f1-score\"] = res.get(\"f1-score\", 0) + tmp_res[\"weighted avg\"][\"f1-score\"]\n",
    "    res[\"specificity\"] = res.get(\"specificity\", 0) + tmp_res[str(MAJORITY)][\"recall\"]\n",
    "    res[\"sensitivity\"] = res.get(\"sensitivity\", 0) + tmp_res[str(MINORITY)][\"recall\"]\n",
    "    res[\"overall accuracy\"] = res.get(\"overall accuracy\", 0) + accuracy_score(y_test, y_pred,)\n",
    "    res[\"auc\"] = res.get(\"auc\", 0) + roc_auc_score(y_test, y_pred)\n",
    "    res[\"g_mean\"] = res.get(\"g_mean\", 0) + geometric_mean_score(y_test, y_pred)"
   ]
  },
  {
   "cell_type": "code",
   "execution_count": 16,
   "metadata": {},
   "outputs": [
    {
     "name": "stdout",
     "output_type": "stream",
     "text": [
      "precision: 0.76\n",
      "recall: 0.72\n",
      "f1-score: 0.72\n",
      "specificity: 0.68\n",
      "sensitivity: 0.79\n",
      "overall accuracy: 0.72\n",
      "auc: 0.73\n",
      "g_mean: 0.73\n"
     ]
    }
   ],
   "source": [
    "pprint_dict(res)"
   ]
  }
 ],
 "metadata": {
  "kernelspec": {
   "display_name": "Python 3",
   "language": "python",
   "name": "python3"
  },
  "language_info": {
   "codemirror_mode": {
    "name": "ipython",
    "version": 3
   },
   "file_extension": ".py",
   "mimetype": "text/x-python",
   "name": "python",
   "nbconvert_exporter": "python",
   "pygments_lexer": "ipython3",
   "version": "3.6.8"
  }
 },
 "nbformat": 4,
 "nbformat_minor": 2
}
