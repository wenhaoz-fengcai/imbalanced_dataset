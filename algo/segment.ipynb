{
 "cells": [
  {
   "cell_type": "code",
   "execution_count": 1,
   "metadata": {},
   "outputs": [],
   "source": [
    "import sklearn\n",
    "import numpy as np\n",
    "import pandas as pd\n",
    "from dev import DEVALGO \n",
    "from smote import SMOTEBoost\n",
    "from sklearn.metrics import roc_auc_score\n",
    "from sklearn.metrics import accuracy_score\n",
    "from sklearn.metrics import confusion_matrix\n",
    "from sklearn.tree import DecisionTreeClassifier\n",
    "from imblearn.over_sampling import SMOTE, ADASYN\n",
    "from sklearn.metrics import classification_report\n",
    "from sklearn.model_selection import train_test_split\n",
    "from imblearn.metrics import geometric_mean_score"
   ]
  },
  {
   "cell_type": "code",
   "execution_count": 2,
   "metadata": {},
   "outputs": [],
   "source": [
    "MINORITY = 1\n",
    "MAJORITY = 0\n",
    "CLASS_NAME = \"class\""
   ]
  },
  {
   "cell_type": "code",
   "execution_count": 3,
   "metadata": {},
   "outputs": [],
   "source": [
    "def pprint_dict(d):\n",
    "    for key, value in d.items():\n",
    "        print(key + \": \" + \"{0:.2f}\".format(value/100.0))"
   ]
  },
  {
   "cell_type": "code",
   "execution_count": 4,
   "metadata": {},
   "outputs": [
    {
     "data": {
      "text/html": [
       "<div>\n",
       "<style scoped>\n",
       "    .dataframe tbody tr th:only-of-type {\n",
       "        vertical-align: middle;\n",
       "    }\n",
       "\n",
       "    .dataframe tbody tr th {\n",
       "        vertical-align: top;\n",
       "    }\n",
       "\n",
       "    .dataframe thead th {\n",
       "        text-align: right;\n",
       "    }\n",
       "</style>\n",
       "<table border=\"1\" class=\"dataframe\">\n",
       "  <thead>\n",
       "    <tr style=\"text-align: right;\">\n",
       "      <th></th>\n",
       "      <th>region-centroid-col</th>\n",
       "      <th>region-centroid-row</th>\n",
       "      <th>region-pixel-count</th>\n",
       "      <th>short-line-density-5</th>\n",
       "      <th>short-line-density-2</th>\n",
       "      <th>vedge-mean</th>\n",
       "      <th>vegde-sd</th>\n",
       "      <th>hedge-mean</th>\n",
       "      <th>hedge-sd</th>\n",
       "      <th>intensity-mean</th>\n",
       "      <th>rawred-mean</th>\n",
       "      <th>rawblue-mean</th>\n",
       "      <th>rawgreen-mean</th>\n",
       "      <th>exred-mean</th>\n",
       "      <th>exblue-mean</th>\n",
       "      <th>exgreen-mean</th>\n",
       "      <th>value-mean</th>\n",
       "      <th>saturation-mean</th>\n",
       "      <th>hue-mean</th>\n",
       "      <th>class</th>\n",
       "    </tr>\n",
       "  </thead>\n",
       "  <tbody>\n",
       "    <tr>\n",
       "      <th>0</th>\n",
       "      <td>28</td>\n",
       "      <td>131</td>\n",
       "      <td>9</td>\n",
       "      <td>0.000000</td>\n",
       "      <td>0.0</td>\n",
       "      <td>0.222222</td>\n",
       "      <td>0.074074</td>\n",
       "      <td>0.777778</td>\n",
       "      <td>0.207407</td>\n",
       "      <td>5.18518</td>\n",
       "      <td>6.66667</td>\n",
       "      <td>6.0000</td>\n",
       "      <td>2.88889</td>\n",
       "      <td>4.44444</td>\n",
       "      <td>2.44444</td>\n",
       "      <td>-6.88889</td>\n",
       "      <td>6.66667</td>\n",
       "      <td>0.566138</td>\n",
       "      <td>-0.874641</td>\n",
       "      <td>brickface</td>\n",
       "    </tr>\n",
       "    <tr>\n",
       "      <th>1</th>\n",
       "      <td>242</td>\n",
       "      <td>164</td>\n",
       "      <td>9</td>\n",
       "      <td>0.111111</td>\n",
       "      <td>0.0</td>\n",
       "      <td>0.388889</td>\n",
       "      <td>0.534027</td>\n",
       "      <td>3.222220</td>\n",
       "      <td>1.047040</td>\n",
       "      <td>19.81480</td>\n",
       "      <td>15.11110</td>\n",
       "      <td>18.7778</td>\n",
       "      <td>25.55560</td>\n",
       "      <td>-14.11110</td>\n",
       "      <td>-3.11111</td>\n",
       "      <td>17.22220</td>\n",
       "      <td>25.55560</td>\n",
       "      <td>0.409529</td>\n",
       "      <td>2.459810</td>\n",
       "      <td>grass</td>\n",
       "    </tr>\n",
       "    <tr>\n",
       "      <th>2</th>\n",
       "      <td>66</td>\n",
       "      <td>101</td>\n",
       "      <td>9</td>\n",
       "      <td>0.111111</td>\n",
       "      <td>0.0</td>\n",
       "      <td>0.722223</td>\n",
       "      <td>0.329629</td>\n",
       "      <td>2.222220</td>\n",
       "      <td>0.651852</td>\n",
       "      <td>19.03700</td>\n",
       "      <td>19.66670</td>\n",
       "      <td>23.5556</td>\n",
       "      <td>13.88890</td>\n",
       "      <td>1.88889</td>\n",
       "      <td>13.55560</td>\n",
       "      <td>-15.44440</td>\n",
       "      <td>23.55560</td>\n",
       "      <td>0.410267</td>\n",
       "      <td>-1.457590</td>\n",
       "      <td>brickface</td>\n",
       "    </tr>\n",
       "    <tr>\n",
       "      <th>3</th>\n",
       "      <td>94</td>\n",
       "      <td>215</td>\n",
       "      <td>9</td>\n",
       "      <td>0.000000</td>\n",
       "      <td>0.0</td>\n",
       "      <td>3.111110</td>\n",
       "      <td>5.096300</td>\n",
       "      <td>1.611110</td>\n",
       "      <td>1.129630</td>\n",
       "      <td>17.18520</td>\n",
       "      <td>14.33330</td>\n",
       "      <td>14.3333</td>\n",
       "      <td>22.88890</td>\n",
       "      <td>-8.55556</td>\n",
       "      <td>-8.55556</td>\n",
       "      <td>17.11110</td>\n",
       "      <td>22.88890</td>\n",
       "      <td>0.404392</td>\n",
       "      <td>2.105200</td>\n",
       "      <td>grass</td>\n",
       "    </tr>\n",
       "    <tr>\n",
       "      <th>4</th>\n",
       "      <td>186</td>\n",
       "      <td>12</td>\n",
       "      <td>9</td>\n",
       "      <td>0.000000</td>\n",
       "      <td>0.0</td>\n",
       "      <td>0.444444</td>\n",
       "      <td>0.272165</td>\n",
       "      <td>2.333330</td>\n",
       "      <td>1.966380</td>\n",
       "      <td>6.25926</td>\n",
       "      <td>3.88889</td>\n",
       "      <td>11.3333</td>\n",
       "      <td>3.55556</td>\n",
       "      <td>-7.11111</td>\n",
       "      <td>15.22220</td>\n",
       "      <td>-8.11111</td>\n",
       "      <td>11.33330</td>\n",
       "      <td>0.687302</td>\n",
       "      <td>-2.057980</td>\n",
       "      <td>window</td>\n",
       "    </tr>\n",
       "  </tbody>\n",
       "</table>\n",
       "</div>"
      ],
      "text/plain": [
       "   region-centroid-col  region-centroid-row  region-pixel-count  \\\n",
       "0                   28                  131                   9   \n",
       "1                  242                  164                   9   \n",
       "2                   66                  101                   9   \n",
       "3                   94                  215                   9   \n",
       "4                  186                   12                   9   \n",
       "\n",
       "   short-line-density-5  short-line-density-2  vedge-mean  vegde-sd  \\\n",
       "0              0.000000                   0.0    0.222222  0.074074   \n",
       "1              0.111111                   0.0    0.388889  0.534027   \n",
       "2              0.111111                   0.0    0.722223  0.329629   \n",
       "3              0.000000                   0.0    3.111110  5.096300   \n",
       "4              0.000000                   0.0    0.444444  0.272165   \n",
       "\n",
       "   hedge-mean  hedge-sd  intensity-mean  rawred-mean  rawblue-mean  \\\n",
       "0    0.777778  0.207407         5.18518      6.66667        6.0000   \n",
       "1    3.222220  1.047040        19.81480     15.11110       18.7778   \n",
       "2    2.222220  0.651852        19.03700     19.66670       23.5556   \n",
       "3    1.611110  1.129630        17.18520     14.33330       14.3333   \n",
       "4    2.333330  1.966380         6.25926      3.88889       11.3333   \n",
       "\n",
       "   rawgreen-mean  exred-mean  exblue-mean  exgreen-mean  value-mean  \\\n",
       "0        2.88889     4.44444      2.44444      -6.88889     6.66667   \n",
       "1       25.55560   -14.11110     -3.11111      17.22220    25.55560   \n",
       "2       13.88890     1.88889     13.55560     -15.44440    23.55560   \n",
       "3       22.88890    -8.55556     -8.55556      17.11110    22.88890   \n",
       "4        3.55556    -7.11111     15.22220      -8.11111    11.33330   \n",
       "\n",
       "   saturation-mean  hue-mean      class  \n",
       "0         0.566138 -0.874641  brickface  \n",
       "1         0.409529  2.459810      grass  \n",
       "2         0.410267 -1.457590  brickface  \n",
       "3         0.404392  2.105200      grass  \n",
       "4         0.687302 -2.057980     window  "
      ]
     },
     "execution_count": 4,
     "metadata": {},
     "output_type": "execute_result"
    }
   ],
   "source": [
    "df = pd.read_csv(\"data/segment/segment.csv\").sample(frac=1, random_state=0).reset_index(drop=True)\n",
    "df.head()"
   ]
  },
  {
   "cell_type": "code",
   "execution_count": 5,
   "metadata": {},
   "outputs": [
    {
     "data": {
      "text/plain": [
       "sky          330\n",
       "path         330\n",
       "foliage      330\n",
       "cement       330\n",
       "brickface    330\n",
       "grass        330\n",
       "window       330\n",
       "Name: class, dtype: int64"
      ]
     },
     "execution_count": 5,
     "metadata": {},
     "output_type": "execute_result"
    }
   ],
   "source": [
    "# Outcomes distribution\n",
    "df[CLASS_NAME].value_counts()"
   ]
  },
  {
   "cell_type": "code",
   "execution_count": 6,
   "metadata": {},
   "outputs": [
    {
     "data": {
      "text/html": [
       "<div>\n",
       "<style scoped>\n",
       "    .dataframe tbody tr th:only-of-type {\n",
       "        vertical-align: middle;\n",
       "    }\n",
       "\n",
       "    .dataframe tbody tr th {\n",
       "        vertical-align: top;\n",
       "    }\n",
       "\n",
       "    .dataframe thead th {\n",
       "        text-align: right;\n",
       "    }\n",
       "</style>\n",
       "<table border=\"1\" class=\"dataframe\">\n",
       "  <thead>\n",
       "    <tr style=\"text-align: right;\">\n",
       "      <th></th>\n",
       "      <th>region-centroid-col</th>\n",
       "      <th>region-centroid-row</th>\n",
       "      <th>region-pixel-count</th>\n",
       "      <th>short-line-density-5</th>\n",
       "      <th>short-line-density-2</th>\n",
       "      <th>vedge-mean</th>\n",
       "      <th>vegde-sd</th>\n",
       "      <th>hedge-mean</th>\n",
       "      <th>hedge-sd</th>\n",
       "      <th>intensity-mean</th>\n",
       "      <th>rawred-mean</th>\n",
       "      <th>rawblue-mean</th>\n",
       "      <th>rawgreen-mean</th>\n",
       "      <th>exred-mean</th>\n",
       "      <th>exblue-mean</th>\n",
       "      <th>exgreen-mean</th>\n",
       "      <th>value-mean</th>\n",
       "      <th>saturation-mean</th>\n",
       "      <th>hue-mean</th>\n",
       "      <th>class</th>\n",
       "    </tr>\n",
       "  </thead>\n",
       "  <tbody>\n",
       "    <tr>\n",
       "      <th>0</th>\n",
       "      <td>28</td>\n",
       "      <td>131</td>\n",
       "      <td>9</td>\n",
       "      <td>0.000000</td>\n",
       "      <td>0.0</td>\n",
       "      <td>0.222222</td>\n",
       "      <td>0.074074</td>\n",
       "      <td>0.777778</td>\n",
       "      <td>0.207407</td>\n",
       "      <td>5.18518</td>\n",
       "      <td>6.66667</td>\n",
       "      <td>6.0000</td>\n",
       "      <td>2.88889</td>\n",
       "      <td>4.44444</td>\n",
       "      <td>2.44444</td>\n",
       "      <td>-6.88889</td>\n",
       "      <td>6.66667</td>\n",
       "      <td>0.566138</td>\n",
       "      <td>-0.874641</td>\n",
       "      <td>0</td>\n",
       "    </tr>\n",
       "    <tr>\n",
       "      <th>1</th>\n",
       "      <td>242</td>\n",
       "      <td>164</td>\n",
       "      <td>9</td>\n",
       "      <td>0.111111</td>\n",
       "      <td>0.0</td>\n",
       "      <td>0.388889</td>\n",
       "      <td>0.534027</td>\n",
       "      <td>3.222220</td>\n",
       "      <td>1.047040</td>\n",
       "      <td>19.81480</td>\n",
       "      <td>15.11110</td>\n",
       "      <td>18.7778</td>\n",
       "      <td>25.55560</td>\n",
       "      <td>-14.11110</td>\n",
       "      <td>-3.11111</td>\n",
       "      <td>17.22220</td>\n",
       "      <td>25.55560</td>\n",
       "      <td>0.409529</td>\n",
       "      <td>2.459810</td>\n",
       "      <td>0</td>\n",
       "    </tr>\n",
       "    <tr>\n",
       "      <th>2</th>\n",
       "      <td>66</td>\n",
       "      <td>101</td>\n",
       "      <td>9</td>\n",
       "      <td>0.111111</td>\n",
       "      <td>0.0</td>\n",
       "      <td>0.722223</td>\n",
       "      <td>0.329629</td>\n",
       "      <td>2.222220</td>\n",
       "      <td>0.651852</td>\n",
       "      <td>19.03700</td>\n",
       "      <td>19.66670</td>\n",
       "      <td>23.5556</td>\n",
       "      <td>13.88890</td>\n",
       "      <td>1.88889</td>\n",
       "      <td>13.55560</td>\n",
       "      <td>-15.44440</td>\n",
       "      <td>23.55560</td>\n",
       "      <td>0.410267</td>\n",
       "      <td>-1.457590</td>\n",
       "      <td>0</td>\n",
       "    </tr>\n",
       "    <tr>\n",
       "      <th>3</th>\n",
       "      <td>94</td>\n",
       "      <td>215</td>\n",
       "      <td>9</td>\n",
       "      <td>0.000000</td>\n",
       "      <td>0.0</td>\n",
       "      <td>3.111110</td>\n",
       "      <td>5.096300</td>\n",
       "      <td>1.611110</td>\n",
       "      <td>1.129630</td>\n",
       "      <td>17.18520</td>\n",
       "      <td>14.33330</td>\n",
       "      <td>14.3333</td>\n",
       "      <td>22.88890</td>\n",
       "      <td>-8.55556</td>\n",
       "      <td>-8.55556</td>\n",
       "      <td>17.11110</td>\n",
       "      <td>22.88890</td>\n",
       "      <td>0.404392</td>\n",
       "      <td>2.105200</td>\n",
       "      <td>0</td>\n",
       "    </tr>\n",
       "    <tr>\n",
       "      <th>4</th>\n",
       "      <td>186</td>\n",
       "      <td>12</td>\n",
       "      <td>9</td>\n",
       "      <td>0.000000</td>\n",
       "      <td>0.0</td>\n",
       "      <td>0.444444</td>\n",
       "      <td>0.272165</td>\n",
       "      <td>2.333330</td>\n",
       "      <td>1.966380</td>\n",
       "      <td>6.25926</td>\n",
       "      <td>3.88889</td>\n",
       "      <td>11.3333</td>\n",
       "      <td>3.55556</td>\n",
       "      <td>-7.11111</td>\n",
       "      <td>15.22220</td>\n",
       "      <td>-8.11111</td>\n",
       "      <td>11.33330</td>\n",
       "      <td>0.687302</td>\n",
       "      <td>-2.057980</td>\n",
       "      <td>1</td>\n",
       "    </tr>\n",
       "  </tbody>\n",
       "</table>\n",
       "</div>"
      ],
      "text/plain": [
       "   region-centroid-col  region-centroid-row  region-pixel-count  \\\n",
       "0                   28                  131                   9   \n",
       "1                  242                  164                   9   \n",
       "2                   66                  101                   9   \n",
       "3                   94                  215                   9   \n",
       "4                  186                   12                   9   \n",
       "\n",
       "   short-line-density-5  short-line-density-2  vedge-mean  vegde-sd  \\\n",
       "0              0.000000                   0.0    0.222222  0.074074   \n",
       "1              0.111111                   0.0    0.388889  0.534027   \n",
       "2              0.111111                   0.0    0.722223  0.329629   \n",
       "3              0.000000                   0.0    3.111110  5.096300   \n",
       "4              0.000000                   0.0    0.444444  0.272165   \n",
       "\n",
       "   hedge-mean  hedge-sd  intensity-mean  rawred-mean  rawblue-mean  \\\n",
       "0    0.777778  0.207407         5.18518      6.66667        6.0000   \n",
       "1    3.222220  1.047040        19.81480     15.11110       18.7778   \n",
       "2    2.222220  0.651852        19.03700     19.66670       23.5556   \n",
       "3    1.611110  1.129630        17.18520     14.33330       14.3333   \n",
       "4    2.333330  1.966380         6.25926      3.88889       11.3333   \n",
       "\n",
       "   rawgreen-mean  exred-mean  exblue-mean  exgreen-mean  value-mean  \\\n",
       "0        2.88889     4.44444      2.44444      -6.88889     6.66667   \n",
       "1       25.55560   -14.11110     -3.11111      17.22220    25.55560   \n",
       "2       13.88890     1.88889     13.55560     -15.44440    23.55560   \n",
       "3       22.88890    -8.55556     -8.55556      17.11110    22.88890   \n",
       "4        3.55556    -7.11111     15.22220      -8.11111    11.33330   \n",
       "\n",
       "   saturation-mean  hue-mean  class  \n",
       "0         0.566138 -0.874641      0  \n",
       "1         0.409529  2.459810      0  \n",
       "2         0.410267 -1.457590      0  \n",
       "3         0.404392  2.105200      0  \n",
       "4         0.687302 -2.057980      1  "
      ]
     },
     "execution_count": 6,
     "metadata": {},
     "output_type": "execute_result"
    }
   ],
   "source": [
    "# Uncomment this when testing on vowel\n",
    "df[CLASS_NAME].replace({\"brickface\":0, \"cement\":0, \"foliage\":0, \"path\":0, \"sky\":0, \"window\":1, \"grass\":0,}, inplace=True)\n",
    "df.head()"
   ]
  },
  {
   "cell_type": "code",
   "execution_count": 7,
   "metadata": {},
   "outputs": [
    {
     "data": {
      "text/plain": [
       "0    1980\n",
       "1     330\n",
       "Name: class, dtype: int64"
      ]
     },
     "execution_count": 7,
     "metadata": {},
     "output_type": "execute_result"
    }
   ],
   "source": [
    "# Outcomes distribution\n",
    "df[CLASS_NAME].value_counts()"
   ]
  },
  {
   "cell_type": "code",
   "execution_count": 8,
   "metadata": {},
   "outputs": [
    {
     "data": {
      "text/plain": [
       "'6.0'"
      ]
     },
     "execution_count": 8,
     "metadata": {},
     "output_type": "execute_result"
    }
   ],
   "source": [
    "# Calculate imbalanced ratio\n",
    "frq = df[CLASS_NAME].value_counts()\n",
    "ratio = max(frq)/min(frq)\n",
    "\"{0:.1f}\".format(ratio)"
   ]
  },
  {
   "cell_type": "markdown",
   "metadata": {},
   "source": [
    "# Use the following for testing Decision tree\n",
    "\n",
    "- run 100 iterations\n",
    "- 50/50 training/testing\n",
    "- Decision tree"
   ]
  },
  {
   "cell_type": "code",
   "execution_count": 9,
   "metadata": {},
   "outputs": [],
   "source": [
    "res = dict()\n",
    "X, y= df.iloc[:,:-1].values, df[CLASS_NAME].values\n",
    "for i in range(100):\n",
    "    X_train, X_test, y_train, y_test = \\\n",
    "        train_test_split(X, y, test_size=.5, random_state=0)\n",
    "    clf_tree = DecisionTreeClassifier(random_state=0)\n",
    "    clf_tree.fit(X_train, y_train)\n",
    "    y_pred = clf_tree.predict(X_test)\n",
    "    tmp_res = classification_report(y_test, y_pred, output_dict=True)\n",
    "    res[\"precision\"] = res.get(\"precision\", 0) + tmp_res[\"1\"][\"precision\"]\n",
    "    res[\"recall\"] = res.get(\"recall\", 0) + tmp_res[\"1\"][\"recall\"]\n",
    "    res[\"f1-score\"] = res.get(\"f1-score\", 0) + tmp_res[\"1\"][\"f1-score\"]\n",
    "    res[\"specificity\"] = res.get(\"specificity\", 0) + tmp_res[str(MAJORITY)][\"recall\"]\n",
    "    res[\"sensitivity\"] = res.get(\"sensitivity\", 0) + tmp_res[str(MINORITY)][\"recall\"]\n",
    "    res[\"overall accuracy\"] = res.get(\"overall accuracy\", 0) + accuracy_score(y_test, y_pred,)\n",
    "    res[\"auc\"] = res.get(\"auc\", 0) + roc_auc_score(y_test, y_pred)\n",
    "    res[\"g_mean\"] = res.get(\"g_mean\", 0) + geometric_mean_score(y_test, y_pred)"
   ]
  },
  {
   "cell_type": "code",
   "execution_count": 10,
   "metadata": {},
   "outputs": [
    {
     "name": "stdout",
     "output_type": "stream",
     "text": [
      "precision: 0.88\n",
      "recall: 0.88\n",
      "f1-score: 0.88\n",
      "specificity: 0.98\n",
      "sensitivity: 0.88\n",
      "overall accuracy: 0.96\n",
      "auc: 0.93\n",
      "g_mean: 0.93\n"
     ]
    }
   ],
   "source": [
    "pprint_dict(res)"
   ]
  },
  {
   "cell_type": "markdown",
   "metadata": {},
   "source": [
    "# Use the following for testing SMOTE\n",
    "\n",
    "- run 100 iterations\n",
    "- 50/50 training/testing\n",
    "- Decision tree\n",
    "- N = 200"
   ]
  },
  {
   "cell_type": "code",
   "execution_count": 11,
   "metadata": {},
   "outputs": [
    {
     "name": "stdout",
     "output_type": "stream",
     "text": [
      "Shape of X_train before oversampling: (1155, 19)\n",
      "Outcome distribution of X_train before oversampling: [996 159]\n",
      "Shape of X_train after oversampling: (1992, 19)\n",
      "Outcome distribution of X_train after oversampling: [996 996]\n"
     ]
    }
   ],
   "source": [
    "res = dict()\n",
    "X, y= df.iloc[:,:-1].values, df[CLASS_NAME].values\n",
    "for i in range(100):\n",
    "    X_train, X_test, y_train, y_test = \\\n",
    "        train_test_split(X, y, test_size=.5, random_state=0)\n",
    "    if i == 0:\n",
    "        print(\"Shape of X_train before oversampling: \" + str(X_train.shape))\n",
    "        print(\"Outcome distribution of X_train before oversampling: \" + str(np.bincount(y_train)))\n",
    "    # Oversample training data\n",
    "    sm = SMOTE(random_state=0)\n",
    "    sm.fit(X_train, y_train)\n",
    "    X_train_r, y_train_r = sm.fit_resample(X_train, y_train)\n",
    "    if i == 0:\n",
    "        print(\"Shape of X_train after oversampling: \" + str(X_train_r.shape))\n",
    "        print(\"Outcome distribution of X_train after oversampling: \" + str(np.bincount(y_train_r)))\n",
    "    # Build classifier on resampled data\n",
    "    clf_tree = DecisionTreeClassifier(random_state=0)\n",
    "    clf_tree.fit(X_train_r, y_train_r)\n",
    "    y_pred = clf_tree.predict(X_test)\n",
    "    tmp_res = classification_report(y_test, y_pred, output_dict=True)\n",
    "    res[\"precision\"] = res.get(\"precision\", 0) + tmp_res[\"1\"][\"precision\"]\n",
    "    res[\"recall\"] = res.get(\"recall\", 0) + tmp_res[\"1\"][\"recall\"]\n",
    "    res[\"f1-score\"] = res.get(\"f1-score\", 0) + tmp_res[\"1\"][\"f1-score\"]\n",
    "    res[\"specificity\"] = res.get(\"specificity\", 0) + tmp_res[str(MAJORITY)][\"recall\"]\n",
    "    res[\"sensitivity\"] = res.get(\"sensitivity\", 0) + tmp_res[str(MINORITY)][\"recall\"]\n",
    "    res[\"overall accuracy\"] = res.get(\"overall accuracy\", 0) + accuracy_score(y_test, y_pred,)\n",
    "    res[\"auc\"] = res.get(\"auc\", 0) + roc_auc_score(y_test, y_pred)\n",
    "    res[\"g_mean\"] = res.get(\"g_mean\", 0) + geometric_mean_score(y_test, y_pred)"
   ]
  },
  {
   "cell_type": "code",
   "execution_count": 12,
   "metadata": {},
   "outputs": [
    {
     "name": "stdout",
     "output_type": "stream",
     "text": [
      "precision: 0.87\n",
      "recall: 0.85\n",
      "f1-score: 0.86\n",
      "specificity: 0.98\n",
      "sensitivity: 0.85\n",
      "overall accuracy: 0.96\n",
      "auc: 0.91\n",
      "g_mean: 0.91\n"
     ]
    }
   ],
   "source": [
    "pprint_dict(res)"
   ]
  },
  {
   "cell_type": "markdown",
   "metadata": {},
   "source": [
    "# Use the following for testing ADASYN\n",
    "\n",
    "- run 100 iterations\n",
    "- 50/50 training/testing\n",
    "- Decision tree\n",
    "- A fully balanced dataset after synthesizing\n",
    "- Dth = 0.75 (Dth is a preset threshold for the maximum tolerated degree of class imbalance ratio)"
   ]
  },
  {
   "cell_type": "code",
   "execution_count": 13,
   "metadata": {},
   "outputs": [
    {
     "name": "stdout",
     "output_type": "stream",
     "text": [
      "Shape of X_train before oversampling: (1155, 19)\n",
      "Outcome distribution of X_train before oversampling: [996 159]\n",
      "Shape of X_train after oversampling: (1999, 19)\n",
      "Outcome distribution of X_train after oversampling: [ 996 1003]\n"
     ]
    }
   ],
   "source": [
    "res = dict()\n",
    "X, y= df.iloc[:,:-1].values, df[CLASS_NAME].values\n",
    "for i in range(100):\n",
    "    X_train, X_test, y_train, y_test = \\\n",
    "        train_test_split(X, y, test_size=.5, random_state=0)\n",
    "    if i == 0:\n",
    "        print(\"Shape of X_train before oversampling: \" + str(X_train.shape))\n",
    "        print(\"Outcome distribution of X_train before oversampling: \" + str(np.bincount(y_train)))\n",
    "    # Oversample training data\n",
    "    ada = ADASYN(random_state=0)\n",
    "    ada.fit(X_train, y_train)\n",
    "    X_train_r, y_train_r = ada.fit_resample(X_train, y_train)\n",
    "    if i == 0:\n",
    "        print(\"Shape of X_train after oversampling: \" + str(X_train_r.shape))\n",
    "        print(\"Outcome distribution of X_train after oversampling: \" + str(np.bincount(y_train_r)))\n",
    "    # Build classifier on resampled data\n",
    "    clf_tree = DecisionTreeClassifier(random_state=0)\n",
    "    clf_tree.fit(X_train_r, y_train_r)\n",
    "    y_pred = clf_tree.predict(X_test)\n",
    "    tmp_res = classification_report(y_test, y_pred, output_dict=True)\n",
    "    res[\"precision\"] = res.get(\"precision\", 0) + tmp_res[\"1\"][\"precision\"]\n",
    "    res[\"recall\"] = res.get(\"recall\", 0) + tmp_res[\"1\"][\"recall\"]\n",
    "    res[\"f1-score\"] = res.get(\"f1-score\", 0) + tmp_res[\"1\"][\"f1-score\"]\n",
    "    res[\"specificity\"] = res.get(\"specificity\", 0) + tmp_res[str(MAJORITY)][\"recall\"]\n",
    "    res[\"sensitivity\"] = res.get(\"sensitivity\", 0) + tmp_res[str(MINORITY)][\"recall\"]\n",
    "    res[\"overall accuracy\"] = res.get(\"overall accuracy\", 0) + accuracy_score(y_test, y_pred,)\n",
    "    res[\"auc\"] = res.get(\"auc\", 0) + roc_auc_score(y_test, y_pred)\n",
    "    res[\"g_mean\"] = res.get(\"g_mean\", 0) + geometric_mean_score(y_test, y_pred)"
   ]
  },
  {
   "cell_type": "code",
   "execution_count": 14,
   "metadata": {},
   "outputs": [
    {
     "name": "stdout",
     "output_type": "stream",
     "text": [
      "precision: 0.88\n",
      "recall: 0.87\n",
      "f1-score: 0.87\n",
      "specificity: 0.98\n",
      "sensitivity: 0.87\n",
      "overall accuracy: 0.96\n",
      "auc: 0.92\n",
      "g_mean: 0.92\n"
     ]
    }
   ],
   "source": [
    "pprint_dict(res)"
   ]
  },
  {
   "cell_type": "markdown",
   "metadata": {},
   "source": [
    "# Use the following for testing SMOTEBoost\n",
    "\n",
    "- run 100 iterations\n",
    "- 50/50 training/testing\n",
    "- Decision tree"
   ]
  },
  {
   "cell_type": "code",
   "execution_count": 15,
   "metadata": {},
   "outputs": [],
   "source": [
    "res = dict()\n",
    "X, y= df.iloc[:,:-1].values, df[CLASS_NAME].values\n",
    "for i in range(100):\n",
    "    X_train, X_test, y_train, y_test = \\\n",
    "        train_test_split(X, y, test_size=.5, random_state=0)\n",
    "    clf1 = SMOTEBoost(random_state=0)\n",
    "    clf1.fit(X_train, y_train)\n",
    "    y_pred = clf1.predict(X_test)\n",
    "    tmp_res = classification_report(y_test, y_pred, output_dict=True)\n",
    "    res[\"precision\"] = res.get(\"precision\", 0) + tmp_res[\"1\"][\"precision\"]\n",
    "    res[\"recall\"] = res.get(\"recall\", 0) + tmp_res[\"1\"][\"recall\"]\n",
    "    res[\"f1-score\"] = res.get(\"f1-score\", 0) + tmp_res[\"1\"][\"f1-score\"]\n",
    "    res[\"specificity\"] = res.get(\"specificity\", 0) + tmp_res[str(MAJORITY)][\"recall\"]\n",
    "    res[\"sensitivity\"] = res.get(\"sensitivity\", 0) + tmp_res[str(MINORITY)][\"recall\"]\n",
    "    res[\"overall accuracy\"] = res.get(\"overall accuracy\", 0) + accuracy_score(y_test, y_pred,)\n",
    "    res[\"auc\"] = res.get(\"auc\", 0) + roc_auc_score(y_test, y_pred)\n",
    "    res[\"g_mean\"] = res.get(\"g_mean\", 0) + geometric_mean_score(y_test, y_pred)"
   ]
  },
  {
   "cell_type": "code",
   "execution_count": 16,
   "metadata": {},
   "outputs": [
    {
     "name": "stdout",
     "output_type": "stream",
     "text": [
      "precision: 0.80\n",
      "recall: 0.87\n",
      "f1-score: 0.83\n",
      "specificity: 0.96\n",
      "sensitivity: 0.87\n",
      "overall accuracy: 0.95\n",
      "auc: 0.92\n",
      "g_mean: 0.92\n"
     ]
    }
   ],
   "source": [
    "pprint_dict(res)"
   ]
  },
  {
   "cell_type": "markdown",
   "metadata": {},
   "source": [
    "# Use the following for testing Dev_algo\n",
    "\n",
    "- run 100 iterations\n",
    "- 50/50 training/testing\n",
    "- Decision tree"
   ]
  },
  {
   "cell_type": "code",
   "execution_count": 17,
   "metadata": {},
   "outputs": [],
   "source": [
    "res = dict()\n",
    "X, y= df.iloc[:,:-1].values, df[CLASS_NAME].values\n",
    "for i in range(100):\n",
    "    X_train, X_test, y_train, y_test = \\\n",
    "        train_test_split(X, y, test_size=.5, random_state=0)\n",
    "    unique, counts = np.unique(y_train, return_counts=True)\n",
    "    frequency = dict(zip(unique, counts))\n",
    "    clf1 = DEVALGO(random_state=0, n_samples=frequency[MAJORITY])\n",
    "    clf1.fit(X_train, y_train)\n",
    "    y_pred = clf1.predict(X_test)\n",
    "    tmp_res = classification_report(y_test, y_pred, output_dict=True)\n",
    "    res[\"precision\"] = res.get(\"precision\", 0) + tmp_res[\"1\"][\"precision\"]\n",
    "    res[\"recall\"] = res.get(\"recall\", 0) + tmp_res[\"1\"][\"recall\"]\n",
    "    res[\"f1-score\"] = res.get(\"f1-score\", 0) + tmp_res[\"1\"][\"f1-score\"]\n",
    "    res[\"specificity\"] = res.get(\"specificity\", 0) + tmp_res[str(MAJORITY)][\"recall\"]\n",
    "    res[\"sensitivity\"] = res.get(\"sensitivity\", 0) + tmp_res[str(MINORITY)][\"recall\"]\n",
    "    res[\"overall accuracy\"] = res.get(\"overall accuracy\", 0) + accuracy_score(y_test, y_pred,)\n",
    "    res[\"auc\"] = res.get(\"auc\", 0) + roc_auc_score(y_test, y_pred)\n",
    "    res[\"g_mean\"] = res.get(\"g_mean\", 0) + geometric_mean_score(y_test, y_pred)"
   ]
  },
  {
   "cell_type": "code",
   "execution_count": 18,
   "metadata": {},
   "outputs": [
    {
     "name": "stdout",
     "output_type": "stream",
     "text": [
      "precision: 0.34\n",
      "recall: 0.97\n",
      "f1-score: 0.51\n",
      "specificity: 0.68\n",
      "sensitivity: 0.97\n",
      "overall accuracy: 0.72\n",
      "auc: 0.82\n",
      "g_mean: 0.81\n"
     ]
    }
   ],
   "source": [
    " pprint_dict(res)"
   ]
  },
  {
   "cell_type": "raw",
   "metadata": {},
   "source": []
  }
 ],
 "metadata": {
  "kernelspec": {
   "display_name": "Python 3",
   "language": "python",
   "name": "python3"
  },
  "language_info": {
   "codemirror_mode": {
    "name": "ipython",
    "version": 3
   },
   "file_extension": ".py",
   "mimetype": "text/x-python",
   "name": "python",
   "nbconvert_exporter": "python",
   "pygments_lexer": "ipython3",
   "version": "3.7.2"
  }
 },
 "nbformat": 4,
 "nbformat_minor": 2
}
